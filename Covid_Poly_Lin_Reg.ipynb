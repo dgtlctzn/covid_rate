{
 "cells": [
  {
   "cell_type": "code",
   "execution_count": 15,
   "metadata": {},
   "outputs": [],
   "source": [
    "import numpy as np\n",
    "import pandas as pd\n",
    "import datetime\n",
    "import matplotlib.pyplot as plt\n",
    "from sklearn.linear_model import LinearRegression\n",
    "from sklearn.metrics import mean_squared_error\n",
    "from math import sqrt"
   ]
  },
  {
   "cell_type": "markdown",
   "metadata": {},
   "source": [
    "# Current Data\n",
    "The file I've been collecting data in on a raspberry pi:"
   ]
  },
  {
   "cell_type": "code",
   "execution_count": 16,
   "metadata": {},
   "outputs": [],
   "source": [
    "file = '/Users/admin/Desktop/Covidiot2.csv'"
   ]
  },
  {
   "cell_type": "code",
   "execution_count": 17,
   "metadata": {},
   "outputs": [],
   "source": [
    "covid_df = pd.read_csv(file, sep='\\t', usecols=['datetime', 'USA', 'Canada', 'Mexico', 'Italy', 'France', \n",
    "                                              'Germany', 'Spain', 'UK', 'Japan', 'S. Korea', 'India', \n",
    "                                              'Philippines', 'Brazil', 'Venezuela', 'Peru', 'South Africa', \n",
    "                                              'Egypt', 'Nigeria', 'Ethiopia', 'Iran', 'Israel', 'Australia'])"
   ]
  },
  {
   "cell_type": "code",
   "execution_count": 18,
   "metadata": {},
   "outputs": [],
   "source": [
    "covid_df['datetime'] = pd.to_datetime(covid_df['datetime'])"
   ]
  },
  {
   "cell_type": "code",
   "execution_count": 19,
   "metadata": {},
   "outputs": [
    {
     "data": {
      "text/html": [
       "<div>\n",
       "<style scoped>\n",
       "    .dataframe tbody tr th:only-of-type {\n",
       "        vertical-align: middle;\n",
       "    }\n",
       "\n",
       "    .dataframe tbody tr th {\n",
       "        vertical-align: top;\n",
       "    }\n",
       "\n",
       "    .dataframe thead th {\n",
       "        text-align: right;\n",
       "    }\n",
       "</style>\n",
       "<table border=\"1\" class=\"dataframe\">\n",
       "  <thead>\n",
       "    <tr style=\"text-align: right;\">\n",
       "      <th></th>\n",
       "      <th>datetime</th>\n",
       "      <th>USA</th>\n",
       "      <th>Canada</th>\n",
       "      <th>Mexico</th>\n",
       "      <th>Italy</th>\n",
       "      <th>France</th>\n",
       "      <th>Germany</th>\n",
       "      <th>Spain</th>\n",
       "      <th>UK</th>\n",
       "      <th>Japan</th>\n",
       "      <th>...</th>\n",
       "      <th>Brazil</th>\n",
       "      <th>Venezuela</th>\n",
       "      <th>Peru</th>\n",
       "      <th>South Africa</th>\n",
       "      <th>Egypt</th>\n",
       "      <th>Nigeria</th>\n",
       "      <th>Ethiopia</th>\n",
       "      <th>Iran</th>\n",
       "      <th>Israel</th>\n",
       "      <th>Australia</th>\n",
       "    </tr>\n",
       "  </thead>\n",
       "  <tbody>\n",
       "    <tr>\n",
       "      <th>0</th>\n",
       "      <td>2020-04-28 19:23:07.143794</td>\n",
       "      <td>0.3124</td>\n",
       "      <td>0.1325</td>\n",
       "      <td>0.0120</td>\n",
       "      <td>0.3333</td>\n",
       "      <td>0.2542</td>\n",
       "      <td>0.1907</td>\n",
       "      <td>0.4965</td>\n",
       "      <td>0.2374</td>\n",
       "      <td>0.0108</td>\n",
       "      <td>...</td>\n",
       "      <td>0.0343</td>\n",
       "      <td>0.0012</td>\n",
       "      <td>0.0946</td>\n",
       "      <td>0.0084</td>\n",
       "      <td>0.0049</td>\n",
       "      <td>0.0006</td>\n",
       "      <td>0.0001</td>\n",
       "      <td>0.1102</td>\n",
       "      <td>0.1817</td>\n",
       "      <td>0.0264</td>\n",
       "    </tr>\n",
       "    <tr>\n",
       "      <th>1</th>\n",
       "      <td>2020-04-28 19:25:44.847000</td>\n",
       "      <td>0.3124</td>\n",
       "      <td>0.1325</td>\n",
       "      <td>0.0120</td>\n",
       "      <td>0.3333</td>\n",
       "      <td>0.2542</td>\n",
       "      <td>0.1907</td>\n",
       "      <td>0.4965</td>\n",
       "      <td>0.2374</td>\n",
       "      <td>0.0108</td>\n",
       "      <td>...</td>\n",
       "      <td>0.0343</td>\n",
       "      <td>0.0012</td>\n",
       "      <td>0.0946</td>\n",
       "      <td>0.0084</td>\n",
       "      <td>0.0049</td>\n",
       "      <td>0.0006</td>\n",
       "      <td>0.0001</td>\n",
       "      <td>0.1102</td>\n",
       "      <td>0.1817</td>\n",
       "      <td>0.0264</td>\n",
       "    </tr>\n",
       "    <tr>\n",
       "      <th>2</th>\n",
       "      <td>2020-04-29 05:15:02.500926</td>\n",
       "      <td>0.3129</td>\n",
       "      <td>0.1325</td>\n",
       "      <td>0.0130</td>\n",
       "      <td>0.3333</td>\n",
       "      <td>0.2542</td>\n",
       "      <td>0.1909</td>\n",
       "      <td>0.4965</td>\n",
       "      <td>0.2374</td>\n",
       "      <td>0.0109</td>\n",
       "      <td>...</td>\n",
       "      <td>0.0345</td>\n",
       "      <td>0.0012</td>\n",
       "      <td>0.0946</td>\n",
       "      <td>0.0084</td>\n",
       "      <td>0.0049</td>\n",
       "      <td>0.0007</td>\n",
       "      <td>0.0001</td>\n",
       "      <td>0.1102</td>\n",
       "      <td>0.1823</td>\n",
       "      <td>0.0264</td>\n",
       "    </tr>\n",
       "    <tr>\n",
       "      <th>3</th>\n",
       "      <td>2020-04-29 17:15:03.052925</td>\n",
       "      <td>0.3188</td>\n",
       "      <td>0.1357</td>\n",
       "      <td>0.0130</td>\n",
       "      <td>0.3367</td>\n",
       "      <td>0.2550</td>\n",
       "      <td>0.1924</td>\n",
       "      <td>0.5067</td>\n",
       "      <td>0.2434</td>\n",
       "      <td>0.0109</td>\n",
       "      <td>...</td>\n",
       "      <td>0.0368</td>\n",
       "      <td>0.0012</td>\n",
       "      <td>0.1029</td>\n",
       "      <td>0.0090</td>\n",
       "      <td>0.0051</td>\n",
       "      <td>0.0007</td>\n",
       "      <td>0.0001</td>\n",
       "      <td>0.1115</td>\n",
       "      <td>0.1823</td>\n",
       "      <td>0.0265</td>\n",
       "    </tr>\n",
       "    <tr>\n",
       "      <th>4</th>\n",
       "      <td>2020-04-30 05:15:03.093615</td>\n",
       "      <td>0.3216</td>\n",
       "      <td>0.1367</td>\n",
       "      <td>0.0138</td>\n",
       "      <td>0.3367</td>\n",
       "      <td>0.2550</td>\n",
       "      <td>0.1928</td>\n",
       "      <td>0.5067</td>\n",
       "      <td>0.2434</td>\n",
       "      <td>0.0110</td>\n",
       "      <td>...</td>\n",
       "      <td>0.0375</td>\n",
       "      <td>0.0012</td>\n",
       "      <td>0.1029</td>\n",
       "      <td>0.0090</td>\n",
       "      <td>0.0051</td>\n",
       "      <td>0.0008</td>\n",
       "      <td>0.0001</td>\n",
       "      <td>0.1115</td>\n",
       "      <td>0.1834</td>\n",
       "      <td>0.0265</td>\n",
       "    </tr>\n",
       "  </tbody>\n",
       "</table>\n",
       "<p>5 rows × 23 columns</p>\n",
       "</div>"
      ],
      "text/plain": [
       "                    datetime     USA  Canada  Mexico   Italy  France  Germany  \\\n",
       "0 2020-04-28 19:23:07.143794  0.3124  0.1325  0.0120  0.3333  0.2542   0.1907   \n",
       "1 2020-04-28 19:25:44.847000  0.3124  0.1325  0.0120  0.3333  0.2542   0.1907   \n",
       "2 2020-04-29 05:15:02.500926  0.3129  0.1325  0.0130  0.3333  0.2542   0.1909   \n",
       "3 2020-04-29 17:15:03.052925  0.3188  0.1357  0.0130  0.3367  0.2550   0.1924   \n",
       "4 2020-04-30 05:15:03.093615  0.3216  0.1367  0.0138  0.3367  0.2550   0.1928   \n",
       "\n",
       "    Spain      UK   Japan  ...  Brazil  Venezuela    Peru  South Africa  \\\n",
       "0  0.4965  0.2374  0.0108  ...  0.0343     0.0012  0.0946        0.0084   \n",
       "1  0.4965  0.2374  0.0108  ...  0.0343     0.0012  0.0946        0.0084   \n",
       "2  0.4965  0.2374  0.0109  ...  0.0345     0.0012  0.0946        0.0084   \n",
       "3  0.5067  0.2434  0.0109  ...  0.0368     0.0012  0.1029        0.0090   \n",
       "4  0.5067  0.2434  0.0110  ...  0.0375     0.0012  0.1029        0.0090   \n",
       "\n",
       "    Egypt  Nigeria  Ethiopia    Iran  Israel  Australia  \n",
       "0  0.0049   0.0006    0.0001  0.1102  0.1817     0.0264  \n",
       "1  0.0049   0.0006    0.0001  0.1102  0.1817     0.0264  \n",
       "2  0.0049   0.0007    0.0001  0.1102  0.1823     0.0264  \n",
       "3  0.0051   0.0007    0.0001  0.1115  0.1823     0.0265  \n",
       "4  0.0051   0.0008    0.0001  0.1115  0.1834     0.0265  \n",
       "\n",
       "[5 rows x 23 columns]"
      ]
     },
     "execution_count": 19,
     "metadata": {},
     "output_type": "execute_result"
    }
   ],
   "source": [
    "covid_df.head()"
   ]
  },
  {
   "cell_type": "markdown",
   "metadata": {},
   "source": [
    "# Linear Prediction of U.S. Covid-19 Rate:"
   ]
  },
  {
   "cell_type": "markdown",
   "metadata": {},
   "source": [
    "### Date \n",
    "Instead of datetime, the dates are converted into hours from the start date of data collection (4/28/20). This format can more easily be applied to regression models. "
   ]
  },
  {
   "cell_type": "code",
   "execution_count": 20,
   "metadata": {},
   "outputs": [],
   "source": [
    "start_date = covid_df.loc[0, 'datetime']\n",
    "covid_df['datetime start'] = start_date\n",
    "covid_df['timedelta (hours)'] = (covid_df['datetime'] - covid_df['datetime start']).astype('timedelta64[h]')"
   ]
  },
  {
   "cell_type": "code",
   "execution_count": 21,
   "metadata": {},
   "outputs": [
    {
     "data": {
      "text/html": [
       "<div>\n",
       "<style scoped>\n",
       "    .dataframe tbody tr th:only-of-type {\n",
       "        vertical-align: middle;\n",
       "    }\n",
       "\n",
       "    .dataframe tbody tr th {\n",
       "        vertical-align: top;\n",
       "    }\n",
       "\n",
       "    .dataframe thead th {\n",
       "        text-align: right;\n",
       "    }\n",
       "</style>\n",
       "<table border=\"1\" class=\"dataframe\">\n",
       "  <thead>\n",
       "    <tr style=\"text-align: right;\">\n",
       "      <th></th>\n",
       "      <th>datetime</th>\n",
       "      <th>USA</th>\n",
       "      <th>Canada</th>\n",
       "      <th>Mexico</th>\n",
       "      <th>Italy</th>\n",
       "      <th>France</th>\n",
       "      <th>Germany</th>\n",
       "      <th>Spain</th>\n",
       "      <th>UK</th>\n",
       "      <th>Japan</th>\n",
       "      <th>...</th>\n",
       "      <th>Peru</th>\n",
       "      <th>South Africa</th>\n",
       "      <th>Egypt</th>\n",
       "      <th>Nigeria</th>\n",
       "      <th>Ethiopia</th>\n",
       "      <th>Iran</th>\n",
       "      <th>Israel</th>\n",
       "      <th>Australia</th>\n",
       "      <th>datetime start</th>\n",
       "      <th>timedelta (hours)</th>\n",
       "    </tr>\n",
       "  </thead>\n",
       "  <tbody>\n",
       "    <tr>\n",
       "      <th>103</th>\n",
       "      <td>2020-07-10 05:15:04.163593</td>\n",
       "      <td>0.956203</td>\n",
       "      <td>0.283079</td>\n",
       "      <td>0.218938</td>\n",
       "      <td>0.400853</td>\n",
       "      <td>0.260587</td>\n",
       "      <td>0.237752</td>\n",
       "      <td>0.541241</td>\n",
       "      <td>0.423682</td>\n",
       "      <td>0.015951</td>\n",
       "      <td>...</td>\n",
       "      <td>0.959752</td>\n",
       "      <td>0.401862</td>\n",
       "      <td>0.077446</td>\n",
       "      <td>0.014674</td>\n",
       "      <td>0.005892</td>\n",
       "      <td>0.298189</td>\n",
       "      <td>0.410523</td>\n",
       "      <td>0.035526</td>\n",
       "      <td>2020-04-28 19:23:07.143794</td>\n",
       "      <td>1737.0</td>\n",
       "    </tr>\n",
       "    <tr>\n",
       "      <th>104</th>\n",
       "      <td>2020-07-10 17:15:04.406244</td>\n",
       "      <td>0.971314</td>\n",
       "      <td>0.283558</td>\n",
       "      <td>0.218938</td>\n",
       "      <td>0.401309</td>\n",
       "      <td>0.261595</td>\n",
       "      <td>0.237984</td>\n",
       "      <td>0.543063</td>\n",
       "      <td>0.424437</td>\n",
       "      <td>0.015951</td>\n",
       "      <td>...</td>\n",
       "      <td>0.959752</td>\n",
       "      <td>0.422682</td>\n",
       "      <td>0.077446</td>\n",
       "      <td>0.014916</td>\n",
       "      <td>0.006193</td>\n",
       "      <td>0.300882</td>\n",
       "      <td>0.418992</td>\n",
       "      <td>0.036024</td>\n",
       "      <td>2020-04-28 19:23:07.143794</td>\n",
       "      <td>1749.0</td>\n",
       "    </tr>\n",
       "    <tr>\n",
       "      <th>105</th>\n",
       "      <td>2020-07-11 05:15:04.516205</td>\n",
       "      <td>0.978306</td>\n",
       "      <td>0.283834</td>\n",
       "      <td>0.224283</td>\n",
       "      <td>0.401309</td>\n",
       "      <td>0.261595</td>\n",
       "      <td>0.238213</td>\n",
       "      <td>0.543063</td>\n",
       "      <td>0.424437</td>\n",
       "      <td>0.015951</td>\n",
       "      <td>...</td>\n",
       "      <td>0.969451</td>\n",
       "      <td>0.422682</td>\n",
       "      <td>0.078405</td>\n",
       "      <td>0.015195</td>\n",
       "      <td>0.006193</td>\n",
       "      <td>0.300882</td>\n",
       "      <td>0.418992</td>\n",
       "      <td>0.036702</td>\n",
       "      <td>2020-04-28 19:23:07.143794</td>\n",
       "      <td>1761.0</td>\n",
       "    </tr>\n",
       "    <tr>\n",
       "      <th>106</th>\n",
       "      <td>2020-07-11 17:15:04.146323</td>\n",
       "      <td>0.994250</td>\n",
       "      <td>0.284419</td>\n",
       "      <td>0.224283</td>\n",
       "      <td>0.401620</td>\n",
       "      <td>0.261595</td>\n",
       "      <td>0.238473</td>\n",
       "      <td>0.543063</td>\n",
       "      <td>0.425644</td>\n",
       "      <td>0.015951</td>\n",
       "      <td>...</td>\n",
       "      <td>0.969451</td>\n",
       "      <td>0.422682</td>\n",
       "      <td>0.078405</td>\n",
       "      <td>0.015195</td>\n",
       "      <td>0.006193</td>\n",
       "      <td>0.300882</td>\n",
       "      <td>0.418992</td>\n",
       "      <td>0.036702</td>\n",
       "      <td>2020-04-28 19:23:07.143794</td>\n",
       "      <td>1773.0</td>\n",
       "    </tr>\n",
       "    <tr>\n",
       "      <th>107</th>\n",
       "      <td>2020-07-13 19:38:40.084047</td>\n",
       "      <td>1.017066</td>\n",
       "      <td>0.285066</td>\n",
       "      <td>0.232486</td>\n",
       "      <td>0.402007</td>\n",
       "      <td>0.261595</td>\n",
       "      <td>0.238650</td>\n",
       "      <td>0.543063</td>\n",
       "      <td>0.427383</td>\n",
       "      <td>0.015951</td>\n",
       "      <td>...</td>\n",
       "      <td>0.989711</td>\n",
       "      <td>0.465770</td>\n",
       "      <td>0.080198</td>\n",
       "      <td>0.015809</td>\n",
       "      <td>0.006193</td>\n",
       "      <td>0.306339</td>\n",
       "      <td>0.446766</td>\n",
       "      <td>0.038420</td>\n",
       "      <td>2020-04-28 19:23:07.143794</td>\n",
       "      <td>1824.0</td>\n",
       "    </tr>\n",
       "  </tbody>\n",
       "</table>\n",
       "<p>5 rows × 25 columns</p>\n",
       "</div>"
      ],
      "text/plain": [
       "                      datetime       USA    Canada    Mexico     Italy  \\\n",
       "103 2020-07-10 05:15:04.163593  0.956203  0.283079  0.218938  0.400853   \n",
       "104 2020-07-10 17:15:04.406244  0.971314  0.283558  0.218938  0.401309   \n",
       "105 2020-07-11 05:15:04.516205  0.978306  0.283834  0.224283  0.401309   \n",
       "106 2020-07-11 17:15:04.146323  0.994250  0.284419  0.224283  0.401620   \n",
       "107 2020-07-13 19:38:40.084047  1.017066  0.285066  0.232486  0.402007   \n",
       "\n",
       "       France   Germany     Spain        UK     Japan  ...      Peru  \\\n",
       "103  0.260587  0.237752  0.541241  0.423682  0.015951  ...  0.959752   \n",
       "104  0.261595  0.237984  0.543063  0.424437  0.015951  ...  0.959752   \n",
       "105  0.261595  0.238213  0.543063  0.424437  0.015951  ...  0.969451   \n",
       "106  0.261595  0.238473  0.543063  0.425644  0.015951  ...  0.969451   \n",
       "107  0.261595  0.238650  0.543063  0.427383  0.015951  ...  0.989711   \n",
       "\n",
       "     South Africa     Egypt   Nigeria  Ethiopia      Iran    Israel  \\\n",
       "103      0.401862  0.077446  0.014674  0.005892  0.298189  0.410523   \n",
       "104      0.422682  0.077446  0.014916  0.006193  0.300882  0.418992   \n",
       "105      0.422682  0.078405  0.015195  0.006193  0.300882  0.418992   \n",
       "106      0.422682  0.078405  0.015195  0.006193  0.300882  0.418992   \n",
       "107      0.465770  0.080198  0.015809  0.006193  0.306339  0.446766   \n",
       "\n",
       "     Australia             datetime start  timedelta (hours)  \n",
       "103   0.035526 2020-04-28 19:23:07.143794             1737.0  \n",
       "104   0.036024 2020-04-28 19:23:07.143794             1749.0  \n",
       "105   0.036702 2020-04-28 19:23:07.143794             1761.0  \n",
       "106   0.036702 2020-04-28 19:23:07.143794             1773.0  \n",
       "107   0.038420 2020-04-28 19:23:07.143794             1824.0  \n",
       "\n",
       "[5 rows x 25 columns]"
      ]
     },
     "execution_count": 21,
     "metadata": {},
     "output_type": "execute_result"
    }
   ],
   "source": [
    "covid_df.tail()"
   ]
  },
  {
   "cell_type": "markdown",
   "metadata": {},
   "source": [
    "### Sklearn Regression\n",
    "The linear regression class learns from the existing US rate/dates"
   ]
  },
  {
   "cell_type": "code",
   "execution_count": 22,
   "metadata": {},
   "outputs": [
    {
     "data": {
      "text/plain": [
       "LinearRegression(copy_X=True, fit_intercept=True, n_jobs=None, normalize=False)"
      ]
     },
     "execution_count": 22,
     "metadata": {},
     "output_type": "execute_result"
    }
   ],
   "source": [
    "X_train = covid_df[['timedelta (hours)']]\n",
    "Y_train = covid_df[['USA']]\n",
    "\n",
    "regressor = LinearRegression()\n",
    "regressor.fit(X_train, Y_train)"
   ]
  },
  {
   "cell_type": "markdown",
   "metadata": {},
   "source": [
    "The same x values plus an additional timedelta (of 480 hours more than the last reading datetime) are used to predict y"
   ]
  },
  {
   "cell_type": "code",
   "execution_count": 23,
   "metadata": {},
   "outputs": [
    {
     "data": {
      "text/html": [
       "<div>\n",
       "<style scoped>\n",
       "    .dataframe tbody tr th:only-of-type {\n",
       "        vertical-align: middle;\n",
       "    }\n",
       "\n",
       "    .dataframe tbody tr th {\n",
       "        vertical-align: top;\n",
       "    }\n",
       "\n",
       "    .dataframe thead th {\n",
       "        text-align: right;\n",
       "    }\n",
       "</style>\n",
       "<table border=\"1\" class=\"dataframe\">\n",
       "  <thead>\n",
       "    <tr style=\"text-align: right;\">\n",
       "      <th></th>\n",
       "      <th>timedelta (hours)</th>\n",
       "    </tr>\n",
       "  </thead>\n",
       "  <tbody>\n",
       "    <tr>\n",
       "      <th>104</th>\n",
       "      <td>1749.0</td>\n",
       "    </tr>\n",
       "    <tr>\n",
       "      <th>105</th>\n",
       "      <td>1761.0</td>\n",
       "    </tr>\n",
       "    <tr>\n",
       "      <th>106</th>\n",
       "      <td>1773.0</td>\n",
       "    </tr>\n",
       "    <tr>\n",
       "      <th>107</th>\n",
       "      <td>1824.0</td>\n",
       "    </tr>\n",
       "    <tr>\n",
       "      <th>108</th>\n",
       "      <td>2304.0</td>\n",
       "    </tr>\n",
       "  </tbody>\n",
       "</table>\n",
       "</div>"
      ],
      "text/plain": [
       "     timedelta (hours)\n",
       "104             1749.0\n",
       "105             1761.0\n",
       "106             1773.0\n",
       "107             1824.0\n",
       "108             2304.0"
      ]
     },
     "execution_count": 23,
     "metadata": {},
     "output_type": "execute_result"
    }
   ],
   "source": [
    "X_test = X_train.copy()\n",
    "last_reading = covid_df.iloc[-1, -1]\n",
    "last_entry = X_test.index[-1] + 1\n",
    "X_test = X_test.append(pd.Series(data={'timedelta (hours)': (last_reading + 480)}, name=last_entry))\n",
    "X_test.tail()"
   ]
  },
  {
   "cell_type": "code",
   "execution_count": 36,
   "metadata": {},
   "outputs": [
    {
     "data": {
      "text/html": [
       "<div>\n",
       "<style scoped>\n",
       "    .dataframe tbody tr th:only-of-type {\n",
       "        vertical-align: middle;\n",
       "    }\n",
       "\n",
       "    .dataframe tbody tr th {\n",
       "        vertical-align: top;\n",
       "    }\n",
       "\n",
       "    .dataframe thead th {\n",
       "        text-align: right;\n",
       "    }\n",
       "</style>\n",
       "<table border=\"1\" class=\"dataframe\">\n",
       "  <thead>\n",
       "    <tr style=\"text-align: right;\">\n",
       "      <th></th>\n",
       "      <th>Predicted Rate</th>\n",
       "    </tr>\n",
       "  </thead>\n",
       "  <tbody>\n",
       "    <tr>\n",
       "      <th>104</th>\n",
       "      <td>0.894675</td>\n",
       "    </tr>\n",
       "    <tr>\n",
       "      <th>105</th>\n",
       "      <td>0.898738</td>\n",
       "    </tr>\n",
       "    <tr>\n",
       "      <th>106</th>\n",
       "      <td>0.902801</td>\n",
       "    </tr>\n",
       "    <tr>\n",
       "      <th>107</th>\n",
       "      <td>0.920068</td>\n",
       "    </tr>\n",
       "    <tr>\n",
       "      <th>108</th>\n",
       "      <td>1.082589</td>\n",
       "    </tr>\n",
       "  </tbody>\n",
       "</table>\n",
       "</div>"
      ],
      "text/plain": [
       "     Predicted Rate\n",
       "104        0.894675\n",
       "105        0.898738\n",
       "106        0.902801\n",
       "107        0.920068\n",
       "108        1.082589"
      ]
     },
     "execution_count": 36,
     "metadata": {},
     "output_type": "execute_result"
    }
   ],
   "source": [
    "y_prediction = regressor.predict(X_test)\n",
    "y_pred = pd.DataFrame(y_prediction, columns=['Predicted Rate'])\n",
    "y_pred.tail()"
   ]
  },
  {
   "cell_type": "markdown",
   "metadata": {},
   "source": [
    "### Graph and RMSE"
   ]
  },
  {
   "cell_type": "markdown",
   "metadata": {},
   "source": [
    "Selects 4-5 values to use as xticks on the graphs using a step/range"
   ]
  },
  {
   "cell_type": "code",
   "execution_count": 25,
   "metadata": {},
   "outputs": [
    {
     "data": {
      "text/plain": [
       "[0.0, 345.0, 717.0, 1449.0, 2304.0]"
      ]
     },
     "execution_count": 25,
     "metadata": {},
     "output_type": "execute_result"
    }
   ],
   "source": [
    "date_list = [X_test['timedelta (hours)'][i] for i in range(0, X_test.index[-1], 30)]\n",
    "date_list.append(X_test.iloc[-1, 0]) # if step is uneven, adds last value\n",
    "date_list"
   ]
  },
  {
   "cell_type": "markdown",
   "metadata": {},
   "source": [
    "Converts the xtick values to date strings (from 4/28/20)"
   ]
  },
  {
   "cell_type": "code",
   "execution_count": 26,
   "metadata": {},
   "outputs": [],
   "source": [
    "first_date = datetime.datetime(year=2020, month=5, day=28)\n",
    "string_dates = []\n",
    "for h in date_list:\n",
    "    date = first_date + datetime.timedelta(hours=h)\n",
    "    string_dates.append(date.strftime('%d %B, %Y'))"
   ]
  },
  {
   "cell_type": "code",
   "execution_count": 27,
   "metadata": {},
   "outputs": [
    {
     "data": {
      "text/plain": [
       "<function matplotlib.pyplot.show(*args, **kw)>"
      ]
     },
     "execution_count": 27,
     "metadata": {},
     "output_type": "execute_result"
    },
    {
     "data": {
      "image/png": "[encoded data removed]",
      "text/plain": [
       "<Figure size 936x576 with 1 Axes>"
      ]
     },
     "metadata": {
      "needs_background": "light"
     },
     "output_type": "display_data"
    }
   ],
   "source": [
    "plt.figure(figsize=(13,8))\n",
    "\n",
    "plt.plot(covid_df['timedelta (hours)'], covid_df['USA'], '-', X_test, y_pred, '--')\n",
    "    \n",
    "plt.legend(('Rate of Covid-19', 'Linear Regression'), loc='upper left')\n",
    "plt.ylabel('Rate of Covid-19', fontsize=15)\n",
    "plt.xticks(date_list, labels=string_dates, rotation=30)\n",
    "plt.title('Rate of Covid-19 in USA', fontsize=20)\n",
    "\n",
    "plt.show"
   ]
  },
  {
   "cell_type": "code",
   "execution_count": 28,
   "metadata": {},
   "outputs": [
    {
     "data": {
      "text/plain": [
       "0.029202531687717238"
      ]
     },
     "execution_count": 28,
     "metadata": {},
     "output_type": "execute_result"
    }
   ],
   "source": [
    "# y_pred[:-1] excludes extra date used for future rate prediction\n",
    "lin_RMSE = sqrt(mean_squared_error(y_true=covid_df['USA'], y_pred=y_pred[:-1])) \n",
    "lin_RMSE"
   ]
  },
  {
   "cell_type": "markdown",
   "metadata": {},
   "source": [
    "# Polynomial Prediction of U.S. Covid-19 Rate:"
   ]
  },
  {
   "cell_type": "code",
   "execution_count": 29,
   "metadata": {},
   "outputs": [
    {
     "data": {
      "text/html": [
       "<div>\n",
       "<style scoped>\n",
       "    .dataframe tbody tr th:only-of-type {\n",
       "        vertical-align: middle;\n",
       "    }\n",
       "\n",
       "    .dataframe tbody tr th {\n",
       "        vertical-align: top;\n",
       "    }\n",
       "\n",
       "    .dataframe thead th {\n",
       "        text-align: right;\n",
       "    }\n",
       "</style>\n",
       "<table border=\"1\" class=\"dataframe\">\n",
       "  <thead>\n",
       "    <tr style=\"text-align: right;\">\n",
       "      <th></th>\n",
       "      <th>datetime</th>\n",
       "      <th>USA</th>\n",
       "      <th>Canada</th>\n",
       "      <th>Mexico</th>\n",
       "      <th>Italy</th>\n",
       "      <th>France</th>\n",
       "      <th>Germany</th>\n",
       "      <th>Spain</th>\n",
       "      <th>UK</th>\n",
       "      <th>Japan</th>\n",
       "      <th>...</th>\n",
       "      <th>Peru</th>\n",
       "      <th>South Africa</th>\n",
       "      <th>Egypt</th>\n",
       "      <th>Nigeria</th>\n",
       "      <th>Ethiopia</th>\n",
       "      <th>Iran</th>\n",
       "      <th>Israel</th>\n",
       "      <th>Australia</th>\n",
       "      <th>datetime start</th>\n",
       "      <th>timedelta (hours)</th>\n",
       "    </tr>\n",
       "  </thead>\n",
       "  <tbody>\n",
       "    <tr>\n",
       "      <th>103</th>\n",
       "      <td>2020-07-10 05:15:04.163593</td>\n",
       "      <td>0.956203</td>\n",
       "      <td>0.283079</td>\n",
       "      <td>0.218938</td>\n",
       "      <td>0.400853</td>\n",
       "      <td>0.260587</td>\n",
       "      <td>0.237752</td>\n",
       "      <td>0.541241</td>\n",
       "      <td>0.423682</td>\n",
       "      <td>0.015951</td>\n",
       "      <td>...</td>\n",
       "      <td>0.959752</td>\n",
       "      <td>0.401862</td>\n",
       "      <td>0.077446</td>\n",
       "      <td>0.014674</td>\n",
       "      <td>0.005892</td>\n",
       "      <td>0.298189</td>\n",
       "      <td>0.410523</td>\n",
       "      <td>0.035526</td>\n",
       "      <td>2020-04-28 19:23:07.143794</td>\n",
       "      <td>1737.0</td>\n",
       "    </tr>\n",
       "    <tr>\n",
       "      <th>104</th>\n",
       "      <td>2020-07-10 17:15:04.406244</td>\n",
       "      <td>0.971314</td>\n",
       "      <td>0.283558</td>\n",
       "      <td>0.218938</td>\n",
       "      <td>0.401309</td>\n",
       "      <td>0.261595</td>\n",
       "      <td>0.237984</td>\n",
       "      <td>0.543063</td>\n",
       "      <td>0.424437</td>\n",
       "      <td>0.015951</td>\n",
       "      <td>...</td>\n",
       "      <td>0.959752</td>\n",
       "      <td>0.422682</td>\n",
       "      <td>0.077446</td>\n",
       "      <td>0.014916</td>\n",
       "      <td>0.006193</td>\n",
       "      <td>0.300882</td>\n",
       "      <td>0.418992</td>\n",
       "      <td>0.036024</td>\n",
       "      <td>2020-04-28 19:23:07.143794</td>\n",
       "      <td>1749.0</td>\n",
       "    </tr>\n",
       "    <tr>\n",
       "      <th>105</th>\n",
       "      <td>2020-07-11 05:15:04.516205</td>\n",
       "      <td>0.978306</td>\n",
       "      <td>0.283834</td>\n",
       "      <td>0.224283</td>\n",
       "      <td>0.401309</td>\n",
       "      <td>0.261595</td>\n",
       "      <td>0.238213</td>\n",
       "      <td>0.543063</td>\n",
       "      <td>0.424437</td>\n",
       "      <td>0.015951</td>\n",
       "      <td>...</td>\n",
       "      <td>0.969451</td>\n",
       "      <td>0.422682</td>\n",
       "      <td>0.078405</td>\n",
       "      <td>0.015195</td>\n",
       "      <td>0.006193</td>\n",
       "      <td>0.300882</td>\n",
       "      <td>0.418992</td>\n",
       "      <td>0.036702</td>\n",
       "      <td>2020-04-28 19:23:07.143794</td>\n",
       "      <td>1761.0</td>\n",
       "    </tr>\n",
       "    <tr>\n",
       "      <th>106</th>\n",
       "      <td>2020-07-11 17:15:04.146323</td>\n",
       "      <td>0.994250</td>\n",
       "      <td>0.284419</td>\n",
       "      <td>0.224283</td>\n",
       "      <td>0.401620</td>\n",
       "      <td>0.261595</td>\n",
       "      <td>0.238473</td>\n",
       "      <td>0.543063</td>\n",
       "      <td>0.425644</td>\n",
       "      <td>0.015951</td>\n",
       "      <td>...</td>\n",
       "      <td>0.969451</td>\n",
       "      <td>0.422682</td>\n",
       "      <td>0.078405</td>\n",
       "      <td>0.015195</td>\n",
       "      <td>0.006193</td>\n",
       "      <td>0.300882</td>\n",
       "      <td>0.418992</td>\n",
       "      <td>0.036702</td>\n",
       "      <td>2020-04-28 19:23:07.143794</td>\n",
       "      <td>1773.0</td>\n",
       "    </tr>\n",
       "    <tr>\n",
       "      <th>107</th>\n",
       "      <td>2020-07-13 19:38:40.084047</td>\n",
       "      <td>1.017066</td>\n",
       "      <td>0.285066</td>\n",
       "      <td>0.232486</td>\n",
       "      <td>0.402007</td>\n",
       "      <td>0.261595</td>\n",
       "      <td>0.238650</td>\n",
       "      <td>0.543063</td>\n",
       "      <td>0.427383</td>\n",
       "      <td>0.015951</td>\n",
       "      <td>...</td>\n",
       "      <td>0.989711</td>\n",
       "      <td>0.465770</td>\n",
       "      <td>0.080198</td>\n",
       "      <td>0.015809</td>\n",
       "      <td>0.006193</td>\n",
       "      <td>0.306339</td>\n",
       "      <td>0.446766</td>\n",
       "      <td>0.038420</td>\n",
       "      <td>2020-04-28 19:23:07.143794</td>\n",
       "      <td>1824.0</td>\n",
       "    </tr>\n",
       "  </tbody>\n",
       "</table>\n",
       "<p>5 rows × 25 columns</p>\n",
       "</div>"
      ],
      "text/plain": [
       "                      datetime       USA    Canada    Mexico     Italy  \\\n",
       "103 2020-07-10 05:15:04.163593  0.956203  0.283079  0.218938  0.400853   \n",
       "104 2020-07-10 17:15:04.406244  0.971314  0.283558  0.218938  0.401309   \n",
       "105 2020-07-11 05:15:04.516205  0.978306  0.283834  0.224283  0.401309   \n",
       "106 2020-07-11 17:15:04.146323  0.994250  0.284419  0.224283  0.401620   \n",
       "107 2020-07-13 19:38:40.084047  1.017066  0.285066  0.232486  0.402007   \n",
       "\n",
       "       France   Germany     Spain        UK     Japan  ...      Peru  \\\n",
       "103  0.260587  0.237752  0.541241  0.423682  0.015951  ...  0.959752   \n",
       "104  0.261595  0.237984  0.543063  0.424437  0.015951  ...  0.959752   \n",
       "105  0.261595  0.238213  0.543063  0.424437  0.015951  ...  0.969451   \n",
       "106  0.261595  0.238473  0.543063  0.425644  0.015951  ...  0.969451   \n",
       "107  0.261595  0.238650  0.543063  0.427383  0.015951  ...  0.989711   \n",
       "\n",
       "     South Africa     Egypt   Nigeria  Ethiopia      Iran    Israel  \\\n",
       "103      0.401862  0.077446  0.014674  0.005892  0.298189  0.410523   \n",
       "104      0.422682  0.077446  0.014916  0.006193  0.300882  0.418992   \n",
       "105      0.422682  0.078405  0.015195  0.006193  0.300882  0.418992   \n",
       "106      0.422682  0.078405  0.015195  0.006193  0.300882  0.418992   \n",
       "107      0.465770  0.080198  0.015809  0.006193  0.306339  0.446766   \n",
       "\n",
       "     Australia             datetime start  timedelta (hours)  \n",
       "103   0.035526 2020-04-28 19:23:07.143794             1737.0  \n",
       "104   0.036024 2020-04-28 19:23:07.143794             1749.0  \n",
       "105   0.036702 2020-04-28 19:23:07.143794             1761.0  \n",
       "106   0.036702 2020-04-28 19:23:07.143794             1773.0  \n",
       "107   0.038420 2020-04-28 19:23:07.143794             1824.0  \n",
       "\n",
       "[5 rows x 25 columns]"
      ]
     },
     "execution_count": 29,
     "metadata": {},
     "output_type": "execute_result"
    }
   ],
   "source": [
    "covid_df.tail()"
   ]
  },
  {
   "cell_type": "markdown",
   "metadata": {},
   "source": [
    "## Numpy Polyfit\n"
   ]
  },
  {
   "cell_type": "markdown",
   "metadata": {},
   "source": [
    "20 days (480 hours) from the last date of data collection sets the limits for the projection"
   ]
  },
  {
   "cell_type": "code",
   "execution_count": 30,
   "metadata": {},
   "outputs": [
    {
     "data": {
      "text/plain": [
       "2304.0"
      ]
     },
     "execution_count": 30,
     "metadata": {},
     "output_type": "execute_result"
    }
   ],
   "source": [
    "max_hour = covid_df['timedelta (hours)'].max() + 480\n",
    "max_hour"
   ]
  },
  {
   "cell_type": "markdown",
   "metadata": {},
   "source": [
    "numpy.polyfit determines the best fit third order polynomial"
   ]
  },
  {
   "cell_type": "code",
   "execution_count": 31,
   "metadata": {},
   "outputs": [],
   "source": [
    "curve = np.poly1d(np.polyfit(covid_df['timedelta (hours)'], covid_df['USA'], 3)) #third order polynomial\n",
    "lin_line = np.linspace(0, max_hour, 200)\n",
    "poly_line = curve(lin_line)"
   ]
  },
  {
   "cell_type": "markdown",
   "metadata": {},
   "source": [
    "### Graph and RMSE"
   ]
  },
  {
   "cell_type": "code",
   "execution_count": 32,
   "metadata": {},
   "outputs": [
    {
     "data": {
      "image/png": "[encoded data removed]",
      "text/plain": [
       "<Figure size 864x576 with 1 Axes>"
      ]
     },
     "metadata": {
      "needs_background": "light"
     },
     "output_type": "display_data"
    }
   ],
   "source": [
    "plt.figure(figsize=(12, 8))\n",
    "\n",
    "plt.plot(covid_df['timedelta (hours)'], covid_df['USA'], linewidth=3, color='k')\n",
    "plt.plot(lin_line, poly_line, '--', color='r')\n",
    "\n",
    "plt.legend(('Rate of Covid-19', '3rd Order Polynomial Regression'), loc='upper left')\n",
    "plt.xticks(date_list, labels=string_dates, rotation=30)\n",
    "plt.ylabel('Rate of Covid-19', fontsize=15)\n",
    "plt.title('Polynomial Projection of U.S. Covid-19 Rate', fontsize=20)\n",
    "plt.show()"
   ]
  },
  {
   "cell_type": "code",
   "execution_count": 33,
   "metadata": {},
   "outputs": [
    {
     "data": {
      "text/plain": [
       "0.003922403463154692"
      ]
     },
     "execution_count": 33,
     "metadata": {},
     "output_type": "execute_result"
    }
   ],
   "source": [
    "Poly_RMSE = sqrt(mean_squared_error(y_true=covid_df['USA'], y_pred=curve(covid_df['timedelta (hours)'])))\n",
    "Poly_RMSE"
   ]
  },
  {
   "cell_type": "markdown",
   "metadata": {},
   "source": [
    "## Summary of Projections:"
   ]
  },
  {
   "cell_type": "code",
   "execution_count": 34,
   "metadata": {},
   "outputs": [
    {
     "name": "stdout",
     "output_type": "stream",
     "text": [
      "Linear Projection RMSE: 0.029202531687717238\n",
      "Polynomial Projection RMSE: 0.003922403463154692\n",
      "The polynomial projection is a better fit\n"
     ]
    }
   ],
   "source": [
    "print('Linear Projection RMSE: ' + str(lin_RMSE))\n",
    "print('Polynomial Projection RMSE: ' + str(Poly_RMSE))\n",
    "if Poly_RMSE < lin_RMSE:\n",
    "    print('The polynomial projection is a better fit')\n",
    "else:\n",
    "    print('The linear projection is a better fit')"
   ]
  },
  {
   "cell_type": "code",
   "execution_count": null,
   "metadata": {},
   "outputs": [],
   "source": []
  }
 ],
 "metadata": {
  "kernelspec": {
   "display_name": "Python 3",
   "language": "python",
   "name": "python3"
  },
  "language_info": {
   "codemirror_mode": {
    "name": "ipython",
    "version": 3
   },
   "file_extension": ".py",
   "mimetype": "text/x-python",
   "name": "python",
   "nbconvert_exporter": "python",
   "pygments_lexer": "ipython3",
   "version": "3.7.6"
  }
 },
 "nbformat": 4,
 "nbformat_minor": 4
}
