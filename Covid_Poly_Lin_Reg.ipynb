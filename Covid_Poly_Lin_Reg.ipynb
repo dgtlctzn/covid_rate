{
 "cells": [
  {
   "cell_type": "code",
   "execution_count": 113,
   "metadata": {},
   "outputs": [],
   "source": [
    "import numpy as np\n",
    "import pandas as pd\n",
    "import datetime\n",
    "import matplotlib.pyplot as plt\n",
    "from sklearn.linear_model import LinearRegression\n",
    "from sklearn.metrics import mean_squared_error\n",
    "from math import sqrt"
   ]
  },
  {
   "cell_type": "markdown",
   "metadata": {},
   "source": [
    "# Current Data\n",
    "The file I've been collecting data in on a raspberry pi:"
   ]
  },
  {
   "cell_type": "code",
   "execution_count": 114,
   "metadata": {},
   "outputs": [],
   "source": [
    "file = 'Covidiot2.csv'"
   ]
  },
  {
   "cell_type": "code",
   "execution_count": 115,
   "metadata": {},
   "outputs": [],
   "source": [
    "covid_df = pd.read_csv(file, sep='\\t', usecols=['datetime', 'USA', 'Canada', 'Mexico', 'Italy', 'France', \n",
    "                                              'Germany', 'Spain', 'UK', 'Japan', 'S. Korea', 'India', \n",
    "                                              'Philippines', 'Brazil', 'Venezuela', 'Peru', 'South Africa', \n",
    "                                              'Egypt', 'Nigeria', 'Ethiopia', 'Iran', 'Israel', 'Australia'])"
   ]
  },
  {
   "cell_type": "code",
   "execution_count": 116,
   "metadata": {},
   "outputs": [],
   "source": [
    "covid_df['datetime'] = pd.to_datetime(covid_df['datetime'])"
   ]
  },
  {
   "cell_type": "code",
   "execution_count": 117,
   "metadata": {},
   "outputs": [
    {
     "data": {
      "text/html": [
       "<div>\n",
       "<style scoped>\n",
       "    .dataframe tbody tr th:only-of-type {\n",
       "        vertical-align: middle;\n",
       "    }\n",
       "\n",
       "    .dataframe tbody tr th {\n",
       "        vertical-align: top;\n",
       "    }\n",
       "\n",
       "    .dataframe thead th {\n",
       "        text-align: right;\n",
       "    }\n",
       "</style>\n",
       "<table border=\"1\" class=\"dataframe\">\n",
       "  <thead>\n",
       "    <tr style=\"text-align: right;\">\n",
       "      <th></th>\n",
       "      <th>datetime</th>\n",
       "      <th>USA</th>\n",
       "      <th>Canada</th>\n",
       "      <th>Mexico</th>\n",
       "      <th>Italy</th>\n",
       "      <th>France</th>\n",
       "      <th>Germany</th>\n",
       "      <th>Spain</th>\n",
       "      <th>UK</th>\n",
       "      <th>Japan</th>\n",
       "      <th>...</th>\n",
       "      <th>Brazil</th>\n",
       "      <th>Venezuela</th>\n",
       "      <th>Peru</th>\n",
       "      <th>South Africa</th>\n",
       "      <th>Egypt</th>\n",
       "      <th>Nigeria</th>\n",
       "      <th>Ethiopia</th>\n",
       "      <th>Iran</th>\n",
       "      <th>Israel</th>\n",
       "      <th>Australia</th>\n",
       "    </tr>\n",
       "  </thead>\n",
       "  <tbody>\n",
       "    <tr>\n",
       "      <th>96</th>\n",
       "      <td>2020-07-06 20:18:26.082492</td>\n",
       "      <td>0.900463</td>\n",
       "      <td>0.280678</td>\n",
       "      <td>0.199211</td>\n",
       "      <td>0.399953</td>\n",
       "      <td>0.257892</td>\n",
       "      <td>0.236399</td>\n",
       "      <td>0.538531</td>\n",
       "      <td>0.420953</td>\n",
       "      <td>0.015635</td>\n",
       "      <td>...</td>\n",
       "      <td>0.763685</td>\n",
       "      <td>0.025211</td>\n",
       "      <td>0.927163</td>\n",
       "      <td>0.346865</td>\n",
       "      <td>0.074483</td>\n",
       "      <td>0.013928</td>\n",
       "      <td>0.005085</td>\n",
       "      <td>0.289371</td>\n",
       "      <td>0.355252</td>\n",
       "      <td>0.032922</td>\n",
       "    </tr>\n",
       "    <tr>\n",
       "      <th>97</th>\n",
       "      <td>2020-07-07 05:15:04.575527</td>\n",
       "      <td>0.904026</td>\n",
       "      <td>0.280678</td>\n",
       "      <td>0.203013</td>\n",
       "      <td>0.399953</td>\n",
       "      <td>0.257892</td>\n",
       "      <td>0.236399</td>\n",
       "      <td>0.538531</td>\n",
       "      <td>0.420953</td>\n",
       "      <td>0.015635</td>\n",
       "      <td>...</td>\n",
       "      <td>0.764996</td>\n",
       "      <td>0.026062</td>\n",
       "      <td>0.927163</td>\n",
       "      <td>0.346865</td>\n",
       "      <td>0.074483</td>\n",
       "      <td>0.014207</td>\n",
       "      <td>0.005085</td>\n",
       "      <td>0.289371</td>\n",
       "      <td>0.361283</td>\n",
       "      <td>0.033671</td>\n",
       "    </tr>\n",
       "    <tr>\n",
       "      <th>98</th>\n",
       "      <td>2020-07-07 17:15:04.055501</td>\n",
       "      <td>0.914938</td>\n",
       "      <td>0.280678</td>\n",
       "      <td>0.203013</td>\n",
       "      <td>0.400180</td>\n",
       "      <td>0.258619</td>\n",
       "      <td>0.236746</td>\n",
       "      <td>0.539260</td>\n",
       "      <td>0.421809</td>\n",
       "      <td>0.015635</td>\n",
       "      <td>...</td>\n",
       "      <td>0.773214</td>\n",
       "      <td>0.026062</td>\n",
       "      <td>0.927163</td>\n",
       "      <td>0.346865</td>\n",
       "      <td>0.074483</td>\n",
       "      <td>0.014207</td>\n",
       "      <td>0.005085</td>\n",
       "      <td>0.292510</td>\n",
       "      <td>0.361283</td>\n",
       "      <td>0.033671</td>\n",
       "    </tr>\n",
       "    <tr>\n",
       "      <th>99</th>\n",
       "      <td>2020-07-08 05:15:04.005969</td>\n",
       "      <td>0.920860</td>\n",
       "      <td>0.281261</td>\n",
       "      <td>0.207866</td>\n",
       "      <td>0.400180</td>\n",
       "      <td>0.258619</td>\n",
       "      <td>0.236746</td>\n",
       "      <td>0.539260</td>\n",
       "      <td>0.421809</td>\n",
       "      <td>0.015635</td>\n",
       "      <td>...</td>\n",
       "      <td>0.787853</td>\n",
       "      <td>0.026062</td>\n",
       "      <td>0.938006</td>\n",
       "      <td>0.363952</td>\n",
       "      <td>0.075516</td>\n",
       "      <td>0.014207</td>\n",
       "      <td>0.005085</td>\n",
       "      <td>0.292510</td>\n",
       "      <td>0.361283</td>\n",
       "      <td>0.034333</td>\n",
       "    </tr>\n",
       "    <tr>\n",
       "      <th>100</th>\n",
       "      <td>2020-07-08 17:15:03.981648</td>\n",
       "      <td>0.929620</td>\n",
       "      <td>0.281825</td>\n",
       "      <td>0.207866</td>\n",
       "      <td>0.400499</td>\n",
       "      <td>0.259635</td>\n",
       "      <td>0.237028</td>\n",
       "      <td>0.540080</td>\n",
       "      <td>0.422737</td>\n",
       "      <td>0.015951</td>\n",
       "      <td>...</td>\n",
       "      <td>0.805968</td>\n",
       "      <td>0.027054</td>\n",
       "      <td>0.949025</td>\n",
       "      <td>0.363952</td>\n",
       "      <td>0.075516</td>\n",
       "      <td>0.014451</td>\n",
       "      <td>0.005085</td>\n",
       "      <td>0.295714</td>\n",
       "      <td>0.377955</td>\n",
       "      <td>0.034098</td>\n",
       "    </tr>\n",
       "  </tbody>\n",
       "</table>\n",
       "<p>5 rows × 23 columns</p>\n",
       "</div>"
      ],
      "text/plain": [
       "                      datetime       USA    Canada    Mexico     Italy  \\\n",
       "96  2020-07-06 20:18:26.082492  0.900463  0.280678  0.199211  0.399953   \n",
       "97  2020-07-07 05:15:04.575527  0.904026  0.280678  0.203013  0.399953   \n",
       "98  2020-07-07 17:15:04.055501  0.914938  0.280678  0.203013  0.400180   \n",
       "99  2020-07-08 05:15:04.005969  0.920860  0.281261  0.207866  0.400180   \n",
       "100 2020-07-08 17:15:03.981648  0.929620  0.281825  0.207866  0.400499   \n",
       "\n",
       "       France   Germany     Spain        UK     Japan  ...    Brazil  \\\n",
       "96   0.257892  0.236399  0.538531  0.420953  0.015635  ...  0.763685   \n",
       "97   0.257892  0.236399  0.538531  0.420953  0.015635  ...  0.764996   \n",
       "98   0.258619  0.236746  0.539260  0.421809  0.015635  ...  0.773214   \n",
       "99   0.258619  0.236746  0.539260  0.421809  0.015635  ...  0.787853   \n",
       "100  0.259635  0.237028  0.540080  0.422737  0.015951  ...  0.805968   \n",
       "\n",
       "     Venezuela      Peru  South Africa     Egypt   Nigeria  Ethiopia  \\\n",
       "96    0.025211  0.927163      0.346865  0.074483  0.013928  0.005085   \n",
       "97    0.026062  0.927163      0.346865  0.074483  0.014207  0.005085   \n",
       "98    0.026062  0.927163      0.346865  0.074483  0.014207  0.005085   \n",
       "99    0.026062  0.938006      0.363952  0.075516  0.014207  0.005085   \n",
       "100   0.027054  0.949025      0.363952  0.075516  0.014451  0.005085   \n",
       "\n",
       "         Iran    Israel  Australia  \n",
       "96   0.289371  0.355252   0.032922  \n",
       "97   0.289371  0.361283   0.033671  \n",
       "98   0.292510  0.361283   0.033671  \n",
       "99   0.292510  0.361283   0.034333  \n",
       "100  0.295714  0.377955   0.034098  \n",
       "\n",
       "[5 rows x 23 columns]"
      ]
     },
     "execution_count": 117,
     "metadata": {},
     "output_type": "execute_result"
    }
   ],
   "source": [
    "covid_df.tail()"
   ]
  },
  {
   "cell_type": "markdown",
   "metadata": {},
   "source": [
    "# Linear Prediction of U.S. Covid-19 Rate:"
   ]
  },
  {
   "cell_type": "markdown",
   "metadata": {},
   "source": [
    "### Date \n",
    "Instead of datetime, the dates are converted into days from the start date of data collection (4/28/20). This format can more easily be applied to regression models. "
   ]
  },
  {
   "cell_type": "code",
   "execution_count": 118,
   "metadata": {},
   "outputs": [],
   "source": [
    "start_date = datetime.datetime(year=2020, month=4, day=28)\n",
    "covid_df['4/28'] = start_date\n",
    "covid_df['days from 4/28'] = (covid_df['datetime'] - covid_df['4/28']).dt.days"
   ]
  },
  {
   "cell_type": "markdown",
   "metadata": {},
   "source": [
    "### Sklearn Regression\n",
    "The linear regression class learns from the existing US rate/dates"
   ]
  },
  {
   "cell_type": "code",
   "execution_count": 119,
   "metadata": {},
   "outputs": [
    {
     "data": {
      "text/plain": [
       "LinearRegression(copy_X=True, fit_intercept=True, n_jobs=None, normalize=False)"
      ]
     },
     "execution_count": 119,
     "metadata": {},
     "output_type": "execute_result"
    }
   ],
   "source": [
    "X_train = covid_df[['days from 4/28']]\n",
    "Y_train = covid_df[['USA']]\n",
    "\n",
    "regressor = LinearRegression()\n",
    "regressor.fit(X_train, Y_train)"
   ]
  },
  {
   "cell_type": "markdown",
   "metadata": {},
   "source": [
    "The same x values are used by the predict method to determine linear y values"
   ]
  },
  {
   "cell_type": "code",
   "execution_count": 120,
   "metadata": {},
   "outputs": [],
   "source": [
    "y_prediction = regressor.predict(covid_df[['days from 4/28']])\n",
    "y_pred = pd.DataFrame(y_prediction)"
   ]
  },
  {
   "cell_type": "markdown",
   "metadata": {},
   "source": [
    "The result is then added to a DataFrame with the original US rates"
   ]
  },
  {
   "cell_type": "code",
   "execution_count": 121,
   "metadata": {},
   "outputs": [
    {
     "data": {
      "text/html": [
       "<div>\n",
       "<style scoped>\n",
       "    .dataframe tbody tr th:only-of-type {\n",
       "        vertical-align: middle;\n",
       "    }\n",
       "\n",
       "    .dataframe tbody tr th {\n",
       "        vertical-align: top;\n",
       "    }\n",
       "\n",
       "    .dataframe thead th {\n",
       "        text-align: right;\n",
       "    }\n",
       "</style>\n",
       "<table border=\"1\" class=\"dataframe\">\n",
       "  <thead>\n",
       "    <tr style=\"text-align: right;\">\n",
       "      <th></th>\n",
       "      <th>USA</th>\n",
       "      <th>0</th>\n",
       "    </tr>\n",
       "  </thead>\n",
       "  <tbody>\n",
       "    <tr>\n",
       "      <th>0</th>\n",
       "      <td>0.3124</td>\n",
       "      <td>0.309386</td>\n",
       "    </tr>\n",
       "    <tr>\n",
       "      <th>1</th>\n",
       "      <td>0.3124</td>\n",
       "      <td>0.309386</td>\n",
       "    </tr>\n",
       "    <tr>\n",
       "      <th>2</th>\n",
       "      <td>0.3129</td>\n",
       "      <td>0.317022</td>\n",
       "    </tr>\n",
       "    <tr>\n",
       "      <th>3</th>\n",
       "      <td>0.3188</td>\n",
       "      <td>0.317022</td>\n",
       "    </tr>\n",
       "    <tr>\n",
       "      <th>4</th>\n",
       "      <td>0.3216</td>\n",
       "      <td>0.324658</td>\n",
       "    </tr>\n",
       "  </tbody>\n",
       "</table>\n",
       "</div>"
      ],
      "text/plain": [
       "      USA         0\n",
       "0  0.3124  0.309386\n",
       "1  0.3124  0.309386\n",
       "2  0.3129  0.317022\n",
       "3  0.3188  0.317022\n",
       "4  0.3216  0.324658"
      ]
     },
     "execution_count": 121,
     "metadata": {},
     "output_type": "execute_result"
    }
   ],
   "source": [
    "predict_array = covid_df['USA']\n",
    "predict_array = pd.concat([predict_array, y_pred], axis=1, join='outer')\n",
    "predict_array.head()"
   ]
  },
  {
   "cell_type": "markdown",
   "metadata": {},
   "source": [
    "### Graph and RMSE"
   ]
  },
  {
   "cell_type": "code",
   "execution_count": 122,
   "metadata": {},
   "outputs": [
    {
     "data": {
      "text/plain": [
       "<function matplotlib.pyplot.show(*args, **kw)>"
      ]
     },
     "execution_count": 122,
     "metadata": {},
     "output_type": "execute_result"
    },
    {
     "data": {
      "image/png": "[encoded data removed]",
      "text/plain": [
       "<Figure size 936x576 with 1 Axes>"
      ]
     },
     "metadata": {
      "needs_background": "light"
     },
     "output_type": "display_data"
    }
   ],
   "source": [
    "plt.figure(figsize=(13,8))\n",
    "\n",
    "plt.plot(covid_df['days from 4/28'], predict_array['USA'], '-', covid_df['days from 4/28'], predict_array[0], '--')\n",
    "    \n",
    "plt.legend(('Rate of Covid-19', 'Linear Regression'), loc='upper left')\n",
    "plt.ylabel('Rate of Covid-19', fontsize=15)\n",
    "plt.xlabel('date', fontsize=15)\n",
    "plt.title('Rate of Covid-19 in USA', fontsize=20)\n",
    "\n",
    "plt.show"
   ]
  },
  {
   "cell_type": "code",
   "execution_count": 123,
   "metadata": {},
   "outputs": [
    {
     "data": {
      "text/plain": [
       "0.019650177367077384"
      ]
     },
     "execution_count": 123,
     "metadata": {},
     "output_type": "execute_result"
    }
   ],
   "source": [
    "lin_RMSE = sqrt(mean_squared_error(y_true=covid_df['USA'], y_pred=y_pred))\n",
    "lin_RMSE"
   ]
  },
  {
   "cell_type": "markdown",
   "metadata": {},
   "source": [
    "# Polynomial Prediction of U.S. Covid-19 Rate:"
   ]
  },
  {
   "cell_type": "code",
   "execution_count": 124,
   "metadata": {},
   "outputs": [
    {
     "data": {
      "text/html": [
       "<div>\n",
       "<style scoped>\n",
       "    .dataframe tbody tr th:only-of-type {\n",
       "        vertical-align: middle;\n",
       "    }\n",
       "\n",
       "    .dataframe tbody tr th {\n",
       "        vertical-align: top;\n",
       "    }\n",
       "\n",
       "    .dataframe thead th {\n",
       "        text-align: right;\n",
       "    }\n",
       "</style>\n",
       "<table border=\"1\" class=\"dataframe\">\n",
       "  <thead>\n",
       "    <tr style=\"text-align: right;\">\n",
       "      <th></th>\n",
       "      <th>datetime</th>\n",
       "      <th>USA</th>\n",
       "      <th>Canada</th>\n",
       "      <th>Mexico</th>\n",
       "      <th>Italy</th>\n",
       "      <th>France</th>\n",
       "      <th>Germany</th>\n",
       "      <th>Spain</th>\n",
       "      <th>UK</th>\n",
       "      <th>Japan</th>\n",
       "      <th>...</th>\n",
       "      <th>Peru</th>\n",
       "      <th>South Africa</th>\n",
       "      <th>Egypt</th>\n",
       "      <th>Nigeria</th>\n",
       "      <th>Ethiopia</th>\n",
       "      <th>Iran</th>\n",
       "      <th>Israel</th>\n",
       "      <th>Australia</th>\n",
       "      <th>4/28</th>\n",
       "      <th>days from 4/28</th>\n",
       "    </tr>\n",
       "  </thead>\n",
       "  <tbody>\n",
       "    <tr>\n",
       "      <th>96</th>\n",
       "      <td>2020-07-06 20:18:26.082492</td>\n",
       "      <td>0.900463</td>\n",
       "      <td>0.280678</td>\n",
       "      <td>0.199211</td>\n",
       "      <td>0.399953</td>\n",
       "      <td>0.257892</td>\n",
       "      <td>0.236399</td>\n",
       "      <td>0.538531</td>\n",
       "      <td>0.420953</td>\n",
       "      <td>0.015635</td>\n",
       "      <td>...</td>\n",
       "      <td>0.927163</td>\n",
       "      <td>0.346865</td>\n",
       "      <td>0.074483</td>\n",
       "      <td>0.013928</td>\n",
       "      <td>0.005085</td>\n",
       "      <td>0.289371</td>\n",
       "      <td>0.355252</td>\n",
       "      <td>0.032922</td>\n",
       "      <td>2020-04-28</td>\n",
       "      <td>69</td>\n",
       "    </tr>\n",
       "    <tr>\n",
       "      <th>97</th>\n",
       "      <td>2020-07-07 05:15:04.575527</td>\n",
       "      <td>0.904026</td>\n",
       "      <td>0.280678</td>\n",
       "      <td>0.203013</td>\n",
       "      <td>0.399953</td>\n",
       "      <td>0.257892</td>\n",
       "      <td>0.236399</td>\n",
       "      <td>0.538531</td>\n",
       "      <td>0.420953</td>\n",
       "      <td>0.015635</td>\n",
       "      <td>...</td>\n",
       "      <td>0.927163</td>\n",
       "      <td>0.346865</td>\n",
       "      <td>0.074483</td>\n",
       "      <td>0.014207</td>\n",
       "      <td>0.005085</td>\n",
       "      <td>0.289371</td>\n",
       "      <td>0.361283</td>\n",
       "      <td>0.033671</td>\n",
       "      <td>2020-04-28</td>\n",
       "      <td>70</td>\n",
       "    </tr>\n",
       "    <tr>\n",
       "      <th>98</th>\n",
       "      <td>2020-07-07 17:15:04.055501</td>\n",
       "      <td>0.914938</td>\n",
       "      <td>0.280678</td>\n",
       "      <td>0.203013</td>\n",
       "      <td>0.400180</td>\n",
       "      <td>0.258619</td>\n",
       "      <td>0.236746</td>\n",
       "      <td>0.539260</td>\n",
       "      <td>0.421809</td>\n",
       "      <td>0.015635</td>\n",
       "      <td>...</td>\n",
       "      <td>0.927163</td>\n",
       "      <td>0.346865</td>\n",
       "      <td>0.074483</td>\n",
       "      <td>0.014207</td>\n",
       "      <td>0.005085</td>\n",
       "      <td>0.292510</td>\n",
       "      <td>0.361283</td>\n",
       "      <td>0.033671</td>\n",
       "      <td>2020-04-28</td>\n",
       "      <td>70</td>\n",
       "    </tr>\n",
       "    <tr>\n",
       "      <th>99</th>\n",
       "      <td>2020-07-08 05:15:04.005969</td>\n",
       "      <td>0.920860</td>\n",
       "      <td>0.281261</td>\n",
       "      <td>0.207866</td>\n",
       "      <td>0.400180</td>\n",
       "      <td>0.258619</td>\n",
       "      <td>0.236746</td>\n",
       "      <td>0.539260</td>\n",
       "      <td>0.421809</td>\n",
       "      <td>0.015635</td>\n",
       "      <td>...</td>\n",
       "      <td>0.938006</td>\n",
       "      <td>0.363952</td>\n",
       "      <td>0.075516</td>\n",
       "      <td>0.014207</td>\n",
       "      <td>0.005085</td>\n",
       "      <td>0.292510</td>\n",
       "      <td>0.361283</td>\n",
       "      <td>0.034333</td>\n",
       "      <td>2020-04-28</td>\n",
       "      <td>71</td>\n",
       "    </tr>\n",
       "    <tr>\n",
       "      <th>100</th>\n",
       "      <td>2020-07-08 17:15:03.981648</td>\n",
       "      <td>0.929620</td>\n",
       "      <td>0.281825</td>\n",
       "      <td>0.207866</td>\n",
       "      <td>0.400499</td>\n",
       "      <td>0.259635</td>\n",
       "      <td>0.237028</td>\n",
       "      <td>0.540080</td>\n",
       "      <td>0.422737</td>\n",
       "      <td>0.015951</td>\n",
       "      <td>...</td>\n",
       "      <td>0.949025</td>\n",
       "      <td>0.363952</td>\n",
       "      <td>0.075516</td>\n",
       "      <td>0.014451</td>\n",
       "      <td>0.005085</td>\n",
       "      <td>0.295714</td>\n",
       "      <td>0.377955</td>\n",
       "      <td>0.034098</td>\n",
       "      <td>2020-04-28</td>\n",
       "      <td>71</td>\n",
       "    </tr>\n",
       "  </tbody>\n",
       "</table>\n",
       "<p>5 rows × 25 columns</p>\n",
       "</div>"
      ],
      "text/plain": [
       "                      datetime       USA    Canada    Mexico     Italy  \\\n",
       "96  2020-07-06 20:18:26.082492  0.900463  0.280678  0.199211  0.399953   \n",
       "97  2020-07-07 05:15:04.575527  0.904026  0.280678  0.203013  0.399953   \n",
       "98  2020-07-07 17:15:04.055501  0.914938  0.280678  0.203013  0.400180   \n",
       "99  2020-07-08 05:15:04.005969  0.920860  0.281261  0.207866  0.400180   \n",
       "100 2020-07-08 17:15:03.981648  0.929620  0.281825  0.207866  0.400499   \n",
       "\n",
       "       France   Germany     Spain        UK     Japan  ...      Peru  \\\n",
       "96   0.257892  0.236399  0.538531  0.420953  0.015635  ...  0.927163   \n",
       "97   0.257892  0.236399  0.538531  0.420953  0.015635  ...  0.927163   \n",
       "98   0.258619  0.236746  0.539260  0.421809  0.015635  ...  0.927163   \n",
       "99   0.258619  0.236746  0.539260  0.421809  0.015635  ...  0.938006   \n",
       "100  0.259635  0.237028  0.540080  0.422737  0.015951  ...  0.949025   \n",
       "\n",
       "     South Africa     Egypt   Nigeria  Ethiopia      Iran    Israel  \\\n",
       "96       0.346865  0.074483  0.013928  0.005085  0.289371  0.355252   \n",
       "97       0.346865  0.074483  0.014207  0.005085  0.289371  0.361283   \n",
       "98       0.346865  0.074483  0.014207  0.005085  0.292510  0.361283   \n",
       "99       0.363952  0.075516  0.014207  0.005085  0.292510  0.361283   \n",
       "100      0.363952  0.075516  0.014451  0.005085  0.295714  0.377955   \n",
       "\n",
       "     Australia       4/28  days from 4/28  \n",
       "96    0.032922 2020-04-28              69  \n",
       "97    0.033671 2020-04-28              70  \n",
       "98    0.033671 2020-04-28              70  \n",
       "99    0.034333 2020-04-28              71  \n",
       "100   0.034098 2020-04-28              71  \n",
       "\n",
       "[5 rows x 25 columns]"
      ]
     },
     "execution_count": 124,
     "metadata": {},
     "output_type": "execute_result"
    }
   ],
   "source": [
    "covid_df.tail()"
   ]
  },
  {
   "cell_type": "markdown",
   "metadata": {},
   "source": [
    "## Numpy Polyfit\n"
   ]
  },
  {
   "cell_type": "markdown",
   "metadata": {},
   "source": [
    "20 days from the last date od data collection sets the limits for the projection"
   ]
  },
  {
   "cell_type": "code",
   "execution_count": 125,
   "metadata": {},
   "outputs": [
    {
     "data": {
      "text/plain": [
       "91"
      ]
     },
     "execution_count": 125,
     "metadata": {},
     "output_type": "execute_result"
    }
   ],
   "source": [
    "max_date = covid_df['days from 4/28'].max() + 20\n",
    "max_date"
   ]
  },
  {
   "cell_type": "markdown",
   "metadata": {},
   "source": [
    "numpy.polyfit determines the best fit third order polynomial"
   ]
  },
  {
   "cell_type": "code",
   "execution_count": 126,
   "metadata": {},
   "outputs": [],
   "source": [
    "curve = np.poly1d(np.polyfit(covid_df['days from 4/28'], covid_df['USA'], 3)) #third order polynomial\n",
    "lin_line = np.linspace(0, max_date, 200)"
   ]
  },
  {
   "cell_type": "markdown",
   "metadata": {},
   "source": [
    "### Graph and RMSE"
   ]
  },
  {
   "cell_type": "code",
   "execution_count": 127,
   "metadata": {},
   "outputs": [
    {
     "data": {
      "image/png": "[encoded data removed]",
      "text/plain": [
       "<Figure size 864x576 with 1 Axes>"
      ]
     },
     "metadata": {
      "needs_background": "light"
     },
     "output_type": "display_data"
    }
   ],
   "source": [
    "plt.figure(figsize=(12, 8))\n",
    "plt.plot(covid_df['days from 4/28'], covid_df['USA'], linewidth=3, color='k')\n",
    "plt.plot(lin_line, curve(lin_line), '--', color='r')\n",
    "plt.xlabel('Days (from 4/28/20)', fontsize=15)\n",
    "plt.ylabel('Rate of Covid-19', fontsize=15)\n",
    "plt.title('Polynomial Projection of U.S. Covid-19 Rate', fontsize=20)\n",
    "plt.show()"
   ]
  },
  {
   "cell_type": "code",
   "execution_count": 128,
   "metadata": {},
   "outputs": [
    {
     "data": {
      "text/plain": [
       "0.004913036101020562"
      ]
     },
     "execution_count": 128,
     "metadata": {},
     "output_type": "execute_result"
    }
   ],
   "source": [
    "Poly_RMSE = sqrt(mean_squared_error(y_true=us_rates, y_pred=curve(covid_df['days from 4/28'])))\n",
    "Poly_RMSE"
   ]
  },
  {
   "cell_type": "markdown",
   "metadata": {},
   "source": [
    "## Summary of Projections:"
   ]
  },
  {
   "cell_type": "code",
   "execution_count": 129,
   "metadata": {},
   "outputs": [
    {
     "name": "stdout",
     "output_type": "stream",
     "text": [
      "Linear Projection RMSE: 0.019650177367077384\n",
      "Polynomial Projection RMSE: 0.004913036101020562\n",
      "The polynomial projection is a better fit\n"
     ]
    }
   ],
   "source": [
    "print('Linear Projection RMSE: ' + str(lin_RMSE))\n",
    "print('Polynomial Projection RMSE: ' + str(Poly_RMSE))\n",
    "if Poly_RMSE < lin_RMSE:\n",
    "    print('The polynomial projection is a better fit')\n",
    "else:\n",
    "    print('The linear projection is a better fit')"
   ]
  },
  {
   "cell_type": "code",
   "execution_count": null,
   "metadata": {},
   "outputs": [],
   "source": []
  }
 ],
 "metadata": {
  "kernelspec": {
   "display_name": "Python 3",
   "language": "python",
   "name": "python3"
  },
  "language_info": {
   "codemirror_mode": {
    "name": "ipython",
    "version": 3
   },
   "file_extension": ".py",
   "mimetype": "text/x-python",
   "name": "python",
   "nbconvert_exporter": "python",
   "pygments_lexer": "ipython3",
   "version": "3.7.6"
  }
 },
 "nbformat": 4,
 "nbformat_minor": 4
}
