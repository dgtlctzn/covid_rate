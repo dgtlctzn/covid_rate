{
 "cells": [
  {
   "cell_type": "code",
   "execution_count": 42,
   "metadata": {},
   "outputs": [],
   "source": [
    "import numpy as np\n",
    "import pandas as pd\n",
    "import datetime\n",
    "import matplotlib.pyplot as plt\n",
    "from sklearn.linear_model import LinearRegression\n",
    "from sklearn.metrics import mean_squared_error\n",
    "from math import sqrt"
   ]
  },
  {
   "cell_type": "markdown",
   "metadata": {},
   "source": [
    "# Current Data\n",
    "The file I've been collecting data in on a raspberry pi:"
   ]
  },
  {
   "cell_type": "code",
   "execution_count": 43,
   "metadata": {},
   "outputs": [],
   "source": [
    "file = 'Covidiot2.csv'"
   ]
  },
  {
   "cell_type": "code",
   "execution_count": 44,
   "metadata": {},
   "outputs": [],
   "source": [
    "covid_df = pd.read_csv(file, sep='\\t', usecols=['datetime', 'USA', 'Canada', 'Mexico', 'Italy', 'France', \n",
    "                                              'Germany', 'Spain', 'UK', 'Japan', 'S. Korea', 'India', \n",
    "                                              'Philippines', 'Brazil', 'Venezuela', 'Peru', 'South Africa', \n",
    "                                              'Egypt', 'Nigeria', 'Ethiopia', 'Iran', 'Israel', 'Australia'])"
   ]
  },
  {
   "cell_type": "code",
   "execution_count": 45,
   "metadata": {},
   "outputs": [],
   "source": [
    "covid_df['datetime'] = pd.to_datetime(covid_df['datetime'])"
   ]
  },
  {
   "cell_type": "code",
   "execution_count": 46,
   "metadata": {},
   "outputs": [
    {
     "data": {
      "text/html": [
       "<div>\n",
       "<style scoped>\n",
       "    .dataframe tbody tr th:only-of-type {\n",
       "        vertical-align: middle;\n",
       "    }\n",
       "\n",
       "    .dataframe tbody tr th {\n",
       "        vertical-align: top;\n",
       "    }\n",
       "\n",
       "    .dataframe thead th {\n",
       "        text-align: right;\n",
       "    }\n",
       "</style>\n",
       "<table border=\"1\" class=\"dataframe\">\n",
       "  <thead>\n",
       "    <tr style=\"text-align: right;\">\n",
       "      <th></th>\n",
       "      <th>datetime</th>\n",
       "      <th>USA</th>\n",
       "      <th>Canada</th>\n",
       "      <th>Mexico</th>\n",
       "      <th>Italy</th>\n",
       "      <th>France</th>\n",
       "      <th>Germany</th>\n",
       "      <th>Spain</th>\n",
       "      <th>UK</th>\n",
       "      <th>Japan</th>\n",
       "      <th>...</th>\n",
       "      <th>Brazil</th>\n",
       "      <th>Venezuela</th>\n",
       "      <th>Peru</th>\n",
       "      <th>South Africa</th>\n",
       "      <th>Egypt</th>\n",
       "      <th>Nigeria</th>\n",
       "      <th>Ethiopia</th>\n",
       "      <th>Iran</th>\n",
       "      <th>Israel</th>\n",
       "      <th>Australia</th>\n",
       "    </tr>\n",
       "  </thead>\n",
       "  <tbody>\n",
       "    <tr>\n",
       "      <th>0</th>\n",
       "      <td>2020-04-28 19:23:07.143794</td>\n",
       "      <td>0.3124</td>\n",
       "      <td>0.1325</td>\n",
       "      <td>0.0120</td>\n",
       "      <td>0.3333</td>\n",
       "      <td>0.2542</td>\n",
       "      <td>0.1907</td>\n",
       "      <td>0.4965</td>\n",
       "      <td>0.2374</td>\n",
       "      <td>0.0108</td>\n",
       "      <td>...</td>\n",
       "      <td>0.0343</td>\n",
       "      <td>0.0012</td>\n",
       "      <td>0.0946</td>\n",
       "      <td>0.0084</td>\n",
       "      <td>0.0049</td>\n",
       "      <td>0.0006</td>\n",
       "      <td>0.0001</td>\n",
       "      <td>0.1102</td>\n",
       "      <td>0.1817</td>\n",
       "      <td>0.0264</td>\n",
       "    </tr>\n",
       "    <tr>\n",
       "      <th>1</th>\n",
       "      <td>2020-04-28 19:25:44.847000</td>\n",
       "      <td>0.3124</td>\n",
       "      <td>0.1325</td>\n",
       "      <td>0.0120</td>\n",
       "      <td>0.3333</td>\n",
       "      <td>0.2542</td>\n",
       "      <td>0.1907</td>\n",
       "      <td>0.4965</td>\n",
       "      <td>0.2374</td>\n",
       "      <td>0.0108</td>\n",
       "      <td>...</td>\n",
       "      <td>0.0343</td>\n",
       "      <td>0.0012</td>\n",
       "      <td>0.0946</td>\n",
       "      <td>0.0084</td>\n",
       "      <td>0.0049</td>\n",
       "      <td>0.0006</td>\n",
       "      <td>0.0001</td>\n",
       "      <td>0.1102</td>\n",
       "      <td>0.1817</td>\n",
       "      <td>0.0264</td>\n",
       "    </tr>\n",
       "    <tr>\n",
       "      <th>2</th>\n",
       "      <td>2020-04-29 05:15:02.500926</td>\n",
       "      <td>0.3129</td>\n",
       "      <td>0.1325</td>\n",
       "      <td>0.0130</td>\n",
       "      <td>0.3333</td>\n",
       "      <td>0.2542</td>\n",
       "      <td>0.1909</td>\n",
       "      <td>0.4965</td>\n",
       "      <td>0.2374</td>\n",
       "      <td>0.0109</td>\n",
       "      <td>...</td>\n",
       "      <td>0.0345</td>\n",
       "      <td>0.0012</td>\n",
       "      <td>0.0946</td>\n",
       "      <td>0.0084</td>\n",
       "      <td>0.0049</td>\n",
       "      <td>0.0007</td>\n",
       "      <td>0.0001</td>\n",
       "      <td>0.1102</td>\n",
       "      <td>0.1823</td>\n",
       "      <td>0.0264</td>\n",
       "    </tr>\n",
       "    <tr>\n",
       "      <th>3</th>\n",
       "      <td>2020-04-29 17:15:03.052925</td>\n",
       "      <td>0.3188</td>\n",
       "      <td>0.1357</td>\n",
       "      <td>0.0130</td>\n",
       "      <td>0.3367</td>\n",
       "      <td>0.2550</td>\n",
       "      <td>0.1924</td>\n",
       "      <td>0.5067</td>\n",
       "      <td>0.2434</td>\n",
       "      <td>0.0109</td>\n",
       "      <td>...</td>\n",
       "      <td>0.0368</td>\n",
       "      <td>0.0012</td>\n",
       "      <td>0.1029</td>\n",
       "      <td>0.0090</td>\n",
       "      <td>0.0051</td>\n",
       "      <td>0.0007</td>\n",
       "      <td>0.0001</td>\n",
       "      <td>0.1115</td>\n",
       "      <td>0.1823</td>\n",
       "      <td>0.0265</td>\n",
       "    </tr>\n",
       "    <tr>\n",
       "      <th>4</th>\n",
       "      <td>2020-04-30 05:15:03.093615</td>\n",
       "      <td>0.3216</td>\n",
       "      <td>0.1367</td>\n",
       "      <td>0.0138</td>\n",
       "      <td>0.3367</td>\n",
       "      <td>0.2550</td>\n",
       "      <td>0.1928</td>\n",
       "      <td>0.5067</td>\n",
       "      <td>0.2434</td>\n",
       "      <td>0.0110</td>\n",
       "      <td>...</td>\n",
       "      <td>0.0375</td>\n",
       "      <td>0.0012</td>\n",
       "      <td>0.1029</td>\n",
       "      <td>0.0090</td>\n",
       "      <td>0.0051</td>\n",
       "      <td>0.0008</td>\n",
       "      <td>0.0001</td>\n",
       "      <td>0.1115</td>\n",
       "      <td>0.1834</td>\n",
       "      <td>0.0265</td>\n",
       "    </tr>\n",
       "  </tbody>\n",
       "</table>\n",
       "<p>5 rows × 23 columns</p>\n",
       "</div>"
      ],
      "text/plain": [
       "                    datetime     USA  Canada  Mexico   Italy  France  Germany  \\\n",
       "0 2020-04-28 19:23:07.143794  0.3124  0.1325  0.0120  0.3333  0.2542   0.1907   \n",
       "1 2020-04-28 19:25:44.847000  0.3124  0.1325  0.0120  0.3333  0.2542   0.1907   \n",
       "2 2020-04-29 05:15:02.500926  0.3129  0.1325  0.0130  0.3333  0.2542   0.1909   \n",
       "3 2020-04-29 17:15:03.052925  0.3188  0.1357  0.0130  0.3367  0.2550   0.1924   \n",
       "4 2020-04-30 05:15:03.093615  0.3216  0.1367  0.0138  0.3367  0.2550   0.1928   \n",
       "\n",
       "    Spain      UK   Japan  ...  Brazil  Venezuela    Peru  South Africa  \\\n",
       "0  0.4965  0.2374  0.0108  ...  0.0343     0.0012  0.0946        0.0084   \n",
       "1  0.4965  0.2374  0.0108  ...  0.0343     0.0012  0.0946        0.0084   \n",
       "2  0.4965  0.2374  0.0109  ...  0.0345     0.0012  0.0946        0.0084   \n",
       "3  0.5067  0.2434  0.0109  ...  0.0368     0.0012  0.1029        0.0090   \n",
       "4  0.5067  0.2434  0.0110  ...  0.0375     0.0012  0.1029        0.0090   \n",
       "\n",
       "    Egypt  Nigeria  Ethiopia    Iran  Israel  Australia  \n",
       "0  0.0049   0.0006    0.0001  0.1102  0.1817     0.0264  \n",
       "1  0.0049   0.0006    0.0001  0.1102  0.1817     0.0264  \n",
       "2  0.0049   0.0007    0.0001  0.1102  0.1823     0.0264  \n",
       "3  0.0051   0.0007    0.0001  0.1115  0.1823     0.0265  \n",
       "4  0.0051   0.0008    0.0001  0.1115  0.1834     0.0265  \n",
       "\n",
       "[5 rows x 23 columns]"
      ]
     },
     "execution_count": 46,
     "metadata": {},
     "output_type": "execute_result"
    }
   ],
   "source": [
    "covid_df.head()"
   ]
  },
  {
   "cell_type": "markdown",
   "metadata": {},
   "source": [
    "# Linear Prediction of U.S. Covid-19 Rate:"
   ]
  },
  {
   "cell_type": "markdown",
   "metadata": {},
   "source": [
    "### Date \n",
    "Instead of datetime, the dates are converted into hours from the start date of data collection (4/28/20). This format can more easily be applied to regression models. "
   ]
  },
  {
   "cell_type": "code",
   "execution_count": 47,
   "metadata": {},
   "outputs": [],
   "source": [
    "start_date = covid_df.loc[0, 'datetime']\n",
    "covid_df['datetime start'] = start_date\n",
    "covid_df['timedelta (hours)'] = (covid_df['datetime'] - covid_df['datetime start']).astype('timedelta64[h]')"
   ]
  },
  {
   "cell_type": "code",
   "execution_count": 48,
   "metadata": {},
   "outputs": [
    {
     "data": {
      "text/html": [
       "<div>\n",
       "<style scoped>\n",
       "    .dataframe tbody tr th:only-of-type {\n",
       "        vertical-align: middle;\n",
       "    }\n",
       "\n",
       "    .dataframe tbody tr th {\n",
       "        vertical-align: top;\n",
       "    }\n",
       "\n",
       "    .dataframe thead th {\n",
       "        text-align: right;\n",
       "    }\n",
       "</style>\n",
       "<table border=\"1\" class=\"dataframe\">\n",
       "  <thead>\n",
       "    <tr style=\"text-align: right;\">\n",
       "      <th></th>\n",
       "      <th>datetime</th>\n",
       "      <th>USA</th>\n",
       "      <th>Canada</th>\n",
       "      <th>Mexico</th>\n",
       "      <th>Italy</th>\n",
       "      <th>France</th>\n",
       "      <th>Germany</th>\n",
       "      <th>Spain</th>\n",
       "      <th>UK</th>\n",
       "      <th>Japan</th>\n",
       "      <th>...</th>\n",
       "      <th>Peru</th>\n",
       "      <th>South Africa</th>\n",
       "      <th>Egypt</th>\n",
       "      <th>Nigeria</th>\n",
       "      <th>Ethiopia</th>\n",
       "      <th>Iran</th>\n",
       "      <th>Israel</th>\n",
       "      <th>Australia</th>\n",
       "      <th>datetime start</th>\n",
       "      <th>timedelta (hours)</th>\n",
       "    </tr>\n",
       "  </thead>\n",
       "  <tbody>\n",
       "    <tr>\n",
       "      <th>150</th>\n",
       "      <td>2020-08-27 10:45:19.395878</td>\n",
       "      <td>1.758861</td>\n",
       "      <td>0.334949</td>\n",
       "      <td>0.445106</td>\n",
       "      <td>0.434224</td>\n",
       "      <td>0.388499</td>\n",
       "      <td>0.283988</td>\n",
       "      <td>0.897981</td>\n",
       "      <td>0.484409</td>\n",
       "      <td>0.051130</td>\n",
       "      <td>...</td>\n",
       "      <td>1.860308</td>\n",
       "      <td>1.038129</td>\n",
       "      <td>0.095593</td>\n",
       "      <td>0.025721</td>\n",
       "      <td>0.039335</td>\n",
       "      <td>0.432611</td>\n",
       "      <td>1.258894</td>\n",
       "      <td>0.098844</td>\n",
       "      <td>2020-04-28 19:23:07.143794</td>\n",
       "      <td>2895.0</td>\n",
       "    </tr>\n",
       "    <tr>\n",
       "      <th>151</th>\n",
       "      <td>2020-08-28 10:45:18.722986</td>\n",
       "      <td>1.772731</td>\n",
       "      <td>0.336091</td>\n",
       "      <td>0.449780</td>\n",
       "      <td>0.436555</td>\n",
       "      <td>0.397861</td>\n",
       "      <td>0.285863</td>\n",
       "      <td>0.918638</td>\n",
       "      <td>0.486651</td>\n",
       "      <td>0.051846</td>\n",
       "      <td>...</td>\n",
       "      <td>1.886448</td>\n",
       "      <td>1.042488</td>\n",
       "      <td>0.095825</td>\n",
       "      <td>0.025865</td>\n",
       "      <td>0.040367</td>\n",
       "      <td>0.437889</td>\n",
       "      <td>1.275519</td>\n",
       "      <td>0.099302</td>\n",
       "      <td>2020-04-28 19:23:07.143794</td>\n",
       "      <td>2919.0</td>\n",
       "    </tr>\n",
       "    <tr>\n",
       "      <th>152</th>\n",
       "      <td>2020-08-29 10:45:18.628569</td>\n",
       "      <td>1.787732</td>\n",
       "      <td>0.337442</td>\n",
       "      <td>0.454297</td>\n",
       "      <td>0.438970</td>\n",
       "      <td>0.409166</td>\n",
       "      <td>0.287628</td>\n",
       "      <td>0.939553</td>\n",
       "      <td>0.488531</td>\n",
       "      <td>0.052518</td>\n",
       "      <td>...</td>\n",
       "      <td>1.910602</td>\n",
       "      <td>1.045585</td>\n",
       "      <td>0.096043</td>\n",
       "      <td>0.025942</td>\n",
       "      <td>0.041874</td>\n",
       "      <td>0.440407</td>\n",
       "      <td>1.293970</td>\n",
       "      <td>0.099797</td>\n",
       "      <td>2020-04-28 19:23:07.143794</td>\n",
       "      <td>2943.0</td>\n",
       "    </tr>\n",
       "    <tr>\n",
       "      <th>153</th>\n",
       "      <td>2020-08-30 10:45:18.004836</td>\n",
       "      <td>1.801068</td>\n",
       "      <td>0.338277</td>\n",
       "      <td>0.458931</td>\n",
       "      <td>0.441358</td>\n",
       "      <td>0.417520</td>\n",
       "      <td>0.288565</td>\n",
       "      <td>0.939553</td>\n",
       "      <td>0.490163</td>\n",
       "      <td>0.053183</td>\n",
       "      <td>...</td>\n",
       "      <td>1.939336</td>\n",
       "      <td>1.049679</td>\n",
       "      <td>0.096250</td>\n",
       "      <td>0.026063</td>\n",
       "      <td>0.043191</td>\n",
       "      <td>0.442675</td>\n",
       "      <td>1.312721</td>\n",
       "      <td>0.100185</td>\n",
       "      <td>2020-04-28 19:23:07.143794</td>\n",
       "      <td>2967.0</td>\n",
       "    </tr>\n",
       "    <tr>\n",
       "      <th>154</th>\n",
       "      <td>2020-08-31 10:45:18.725250</td>\n",
       "      <td>1.811817</td>\n",
       "      <td>0.338984</td>\n",
       "      <td>0.462133</td>\n",
       "      <td>0.443615</td>\n",
       "      <td>0.425813</td>\n",
       "      <td>0.289293</td>\n",
       "      <td>0.939553</td>\n",
       "      <td>0.492689</td>\n",
       "      <td>0.053658</td>\n",
       "      <td>...</td>\n",
       "      <td>1.962783</td>\n",
       "      <td>1.053903</td>\n",
       "      <td>0.096475</td>\n",
       "      <td>0.026130</td>\n",
       "      <td>0.044468</td>\n",
       "      <td>0.444764</td>\n",
       "      <td>1.317307</td>\n",
       "      <td>0.100667</td>\n",
       "      <td>2020-04-28 19:23:07.143794</td>\n",
       "      <td>2991.0</td>\n",
       "    </tr>\n",
       "  </tbody>\n",
       "</table>\n",
       "<p>5 rows × 25 columns</p>\n",
       "</div>"
      ],
      "text/plain": [
       "                      datetime       USA    Canada    Mexico     Italy  \\\n",
       "150 2020-08-27 10:45:19.395878  1.758861  0.334949  0.445106  0.434224   \n",
       "151 2020-08-28 10:45:18.722986  1.772731  0.336091  0.449780  0.436555   \n",
       "152 2020-08-29 10:45:18.628569  1.787732  0.337442  0.454297  0.438970   \n",
       "153 2020-08-30 10:45:18.004836  1.801068  0.338277  0.458931  0.441358   \n",
       "154 2020-08-31 10:45:18.725250  1.811817  0.338984  0.462133  0.443615   \n",
       "\n",
       "       France   Germany     Spain        UK     Japan  ...      Peru  \\\n",
       "150  0.388499  0.283988  0.897981  0.484409  0.051130  ...  1.860308   \n",
       "151  0.397861  0.285863  0.918638  0.486651  0.051846  ...  1.886448   \n",
       "152  0.409166  0.287628  0.939553  0.488531  0.052518  ...  1.910602   \n",
       "153  0.417520  0.288565  0.939553  0.490163  0.053183  ...  1.939336   \n",
       "154  0.425813  0.289293  0.939553  0.492689  0.053658  ...  1.962783   \n",
       "\n",
       "     South Africa     Egypt   Nigeria  Ethiopia      Iran    Israel  \\\n",
       "150      1.038129  0.095593  0.025721  0.039335  0.432611  1.258894   \n",
       "151      1.042488  0.095825  0.025865  0.040367  0.437889  1.275519   \n",
       "152      1.045585  0.096043  0.025942  0.041874  0.440407  1.293970   \n",
       "153      1.049679  0.096250  0.026063  0.043191  0.442675  1.312721   \n",
       "154      1.053903  0.096475  0.026130  0.044468  0.444764  1.317307   \n",
       "\n",
       "     Australia             datetime start  timedelta (hours)  \n",
       "150   0.098844 2020-04-28 19:23:07.143794             2895.0  \n",
       "151   0.099302 2020-04-28 19:23:07.143794             2919.0  \n",
       "152   0.099797 2020-04-28 19:23:07.143794             2943.0  \n",
       "153   0.100185 2020-04-28 19:23:07.143794             2967.0  \n",
       "154   0.100667 2020-04-28 19:23:07.143794             2991.0  \n",
       "\n",
       "[5 rows x 25 columns]"
      ]
     },
     "execution_count": 48,
     "metadata": {},
     "output_type": "execute_result"
    }
   ],
   "source": [
    "covid_df.tail()"
   ]
  },
  {
   "cell_type": "markdown",
   "metadata": {},
   "source": [
    "### Sklearn Regression\n",
    "The linear regression class learns from the existing US rate/dates"
   ]
  },
  {
   "cell_type": "code",
   "execution_count": 49,
   "metadata": {},
   "outputs": [
    {
     "data": {
      "text/plain": [
       "LinearRegression(copy_X=True, fit_intercept=True, n_jobs=None, normalize=False)"
      ]
     },
     "execution_count": 49,
     "metadata": {},
     "output_type": "execute_result"
    }
   ],
   "source": [
    "X_train = covid_df[['timedelta (hours)']]\n",
    "Y_train = covid_df[['USA']]\n",
    "\n",
    "regressor = LinearRegression()\n",
    "regressor.fit(X_train, Y_train)"
   ]
  },
  {
   "cell_type": "markdown",
   "metadata": {},
   "source": [
    "The same x values plus an additional timedelta (of 480 hours more than the last reading datetime) are used to predict y"
   ]
  },
  {
   "cell_type": "code",
   "execution_count": 50,
   "metadata": {},
   "outputs": [
    {
     "data": {
      "text/html": [
       "<div>\n",
       "<style scoped>\n",
       "    .dataframe tbody tr th:only-of-type {\n",
       "        vertical-align: middle;\n",
       "    }\n",
       "\n",
       "    .dataframe tbody tr th {\n",
       "        vertical-align: top;\n",
       "    }\n",
       "\n",
       "    .dataframe thead th {\n",
       "        text-align: right;\n",
       "    }\n",
       "</style>\n",
       "<table border=\"1\" class=\"dataframe\">\n",
       "  <thead>\n",
       "    <tr style=\"text-align: right;\">\n",
       "      <th></th>\n",
       "      <th>timedelta (hours)</th>\n",
       "    </tr>\n",
       "  </thead>\n",
       "  <tbody>\n",
       "    <tr>\n",
       "      <th>151</th>\n",
       "      <td>2919.0</td>\n",
       "    </tr>\n",
       "    <tr>\n",
       "      <th>152</th>\n",
       "      <td>2943.0</td>\n",
       "    </tr>\n",
       "    <tr>\n",
       "      <th>153</th>\n",
       "      <td>2967.0</td>\n",
       "    </tr>\n",
       "    <tr>\n",
       "      <th>154</th>\n",
       "      <td>2991.0</td>\n",
       "    </tr>\n",
       "    <tr>\n",
       "      <th>155</th>\n",
       "      <td>3471.0</td>\n",
       "    </tr>\n",
       "  </tbody>\n",
       "</table>\n",
       "</div>"
      ],
      "text/plain": [
       "     timedelta (hours)\n",
       "151             2919.0\n",
       "152             2943.0\n",
       "153             2967.0\n",
       "154             2991.0\n",
       "155             3471.0"
      ]
     },
     "execution_count": 50,
     "metadata": {},
     "output_type": "execute_result"
    }
   ],
   "source": [
    "X_test = X_train.copy()\n",
    "last_reading = covid_df.iloc[-1, -1]\n",
    "last_entry = X_test.index[-1] + 1\n",
    "X_test = X_test.append(pd.Series(data={'timedelta (hours)': (last_reading + 480)}, name=last_entry))\n",
    "X_test.tail()"
   ]
  },
  {
   "cell_type": "code",
   "execution_count": 51,
   "metadata": {},
   "outputs": [
    {
     "data": {
      "text/html": [
       "<div>\n",
       "<style scoped>\n",
       "    .dataframe tbody tr th:only-of-type {\n",
       "        vertical-align: middle;\n",
       "    }\n",
       "\n",
       "    .dataframe tbody tr th {\n",
       "        vertical-align: top;\n",
       "    }\n",
       "\n",
       "    .dataframe thead th {\n",
       "        text-align: right;\n",
       "    }\n",
       "</style>\n",
       "<table border=\"1\" class=\"dataframe\">\n",
       "  <thead>\n",
       "    <tr style=\"text-align: right;\">\n",
       "      <th></th>\n",
       "      <th>Predicted Rate</th>\n",
       "    </tr>\n",
       "  </thead>\n",
       "  <tbody>\n",
       "    <tr>\n",
       "      <th>151</th>\n",
       "      <td>1.654285</td>\n",
       "    </tr>\n",
       "    <tr>\n",
       "      <th>152</th>\n",
       "      <td>1.666222</td>\n",
       "    </tr>\n",
       "    <tr>\n",
       "      <th>153</th>\n",
       "      <td>1.678158</td>\n",
       "    </tr>\n",
       "    <tr>\n",
       "      <th>154</th>\n",
       "      <td>1.690094</td>\n",
       "    </tr>\n",
       "    <tr>\n",
       "      <th>155</th>\n",
       "      <td>1.928819</td>\n",
       "    </tr>\n",
       "  </tbody>\n",
       "</table>\n",
       "</div>"
      ],
      "text/plain": [
       "     Predicted Rate\n",
       "151        1.654285\n",
       "152        1.666222\n",
       "153        1.678158\n",
       "154        1.690094\n",
       "155        1.928819"
      ]
     },
     "execution_count": 51,
     "metadata": {},
     "output_type": "execute_result"
    }
   ],
   "source": [
    "y_prediction = regressor.predict(X_test)\n",
    "y_pred = pd.DataFrame(y_prediction, columns=['Predicted Rate'])\n",
    "y_pred.tail()"
   ]
  },
  {
   "cell_type": "markdown",
   "metadata": {},
   "source": [
    "### Graph and RMSE"
   ]
  },
  {
   "cell_type": "markdown",
   "metadata": {},
   "source": [
    "Selects 4-5 values to use as xticks on the graphs using a step/range"
   ]
  },
  {
   "cell_type": "code",
   "execution_count": 53,
   "metadata": {},
   "outputs": [
    {
     "data": {
      "text/plain": [
       "[0.0, 345.0, 717.0, 1449.0, 2175.0, 2895.0, 3471.0]"
      ]
     },
     "execution_count": 53,
     "metadata": {},
     "output_type": "execute_result"
    }
   ],
   "source": [
    "date_list = [X_test['timedelta (hours)'][i] for i in range(0, len(X_test), 30)]\n",
    "date_list.append(X_test.iloc[-1, 0]) # if step is uneven, adds last value\n",
    "date_list"
   ]
  },
  {
   "cell_type": "markdown",
   "metadata": {},
   "source": [
    "Converts the xtick values to date strings (from 4/28/20)"
   ]
  },
  {
   "cell_type": "code",
   "execution_count": 54,
   "metadata": {},
   "outputs": [],
   "source": [
    "first_date = datetime.datetime(year=2020, month=5, day=28)\n",
    "string_dates = []\n",
    "for h in date_list:\n",
    "    date = first_date + datetime.timedelta(hours=h)\n",
    "    string_dates.append(date.strftime('%d %B, %Y'))"
   ]
  },
  {
   "cell_type": "code",
   "execution_count": 55,
   "metadata": {},
   "outputs": [
    {
     "data": {
      "text/plain": [
       "<function matplotlib.pyplot.show(*args, **kw)>"
      ]
     },
     "execution_count": 55,
     "metadata": {},
     "output_type": "execute_result"
    },
    {
     "data": {
      "image/png": "[encoded data removed]",
      "text/plain": [
       "<Figure size 936x576 with 1 Axes>"
      ]
     },
     "metadata": {
      "needs_background": "light"
     },
     "output_type": "display_data"
    }
   ],
   "source": [
    "plt.figure(figsize=(13,8))\n",
    "\n",
    "plt.plot(covid_df['timedelta (hours)'], covid_df['USA'], '-', X_test, y_pred, '--')\n",
    "    \n",
    "plt.legend(('Rate of Covid-19', 'Linear Regression'), loc='upper left')\n",
    "plt.ylabel('Rate of Covid-19', fontsize=15)\n",
    "plt.xticks(date_list, labels=string_dates, rotation=30)\n",
    "plt.title('Rate of Covid-19 in USA', fontsize=20)\n",
    "\n",
    "plt.show"
   ]
  },
  {
   "cell_type": "code",
   "execution_count": 56,
   "metadata": {},
   "outputs": [
    {
     "data": {
      "text/plain": [
       "0.09286549209130682"
      ]
     },
     "execution_count": 56,
     "metadata": {},
     "output_type": "execute_result"
    }
   ],
   "source": [
    "# y_pred[:-1] excludes extra date used for future rate prediction\n",
    "lin_RMSE = sqrt(mean_squared_error(y_true=covid_df['USA'], y_pred=y_pred[:-1])) \n",
    "lin_RMSE"
   ]
  },
  {
   "cell_type": "markdown",
   "metadata": {},
   "source": [
    "# Polynomial Prediction of U.S. Covid-19 Rate:"
   ]
  },
  {
   "cell_type": "code",
   "execution_count": 57,
   "metadata": {},
   "outputs": [
    {
     "data": {
      "text/html": [
       "<div>\n",
       "<style scoped>\n",
       "    .dataframe tbody tr th:only-of-type {\n",
       "        vertical-align: middle;\n",
       "    }\n",
       "\n",
       "    .dataframe tbody tr th {\n",
       "        vertical-align: top;\n",
       "    }\n",
       "\n",
       "    .dataframe thead th {\n",
       "        text-align: right;\n",
       "    }\n",
       "</style>\n",
       "<table border=\"1\" class=\"dataframe\">\n",
       "  <thead>\n",
       "    <tr style=\"text-align: right;\">\n",
       "      <th></th>\n",
       "      <th>datetime</th>\n",
       "      <th>USA</th>\n",
       "      <th>Canada</th>\n",
       "      <th>Mexico</th>\n",
       "      <th>Italy</th>\n",
       "      <th>France</th>\n",
       "      <th>Germany</th>\n",
       "      <th>Spain</th>\n",
       "      <th>UK</th>\n",
       "      <th>Japan</th>\n",
       "      <th>...</th>\n",
       "      <th>Peru</th>\n",
       "      <th>South Africa</th>\n",
       "      <th>Egypt</th>\n",
       "      <th>Nigeria</th>\n",
       "      <th>Ethiopia</th>\n",
       "      <th>Iran</th>\n",
       "      <th>Israel</th>\n",
       "      <th>Australia</th>\n",
       "      <th>datetime start</th>\n",
       "      <th>timedelta (hours)</th>\n",
       "    </tr>\n",
       "  </thead>\n",
       "  <tbody>\n",
       "    <tr>\n",
       "      <th>150</th>\n",
       "      <td>2020-08-27 10:45:19.395878</td>\n",
       "      <td>1.758861</td>\n",
       "      <td>0.334949</td>\n",
       "      <td>0.445106</td>\n",
       "      <td>0.434224</td>\n",
       "      <td>0.388499</td>\n",
       "      <td>0.283988</td>\n",
       "      <td>0.897981</td>\n",
       "      <td>0.484409</td>\n",
       "      <td>0.051130</td>\n",
       "      <td>...</td>\n",
       "      <td>1.860308</td>\n",
       "      <td>1.038129</td>\n",
       "      <td>0.095593</td>\n",
       "      <td>0.025721</td>\n",
       "      <td>0.039335</td>\n",
       "      <td>0.432611</td>\n",
       "      <td>1.258894</td>\n",
       "      <td>0.098844</td>\n",
       "      <td>2020-04-28 19:23:07.143794</td>\n",
       "      <td>2895.0</td>\n",
       "    </tr>\n",
       "    <tr>\n",
       "      <th>151</th>\n",
       "      <td>2020-08-28 10:45:18.722986</td>\n",
       "      <td>1.772731</td>\n",
       "      <td>0.336091</td>\n",
       "      <td>0.449780</td>\n",
       "      <td>0.436555</td>\n",
       "      <td>0.397861</td>\n",
       "      <td>0.285863</td>\n",
       "      <td>0.918638</td>\n",
       "      <td>0.486651</td>\n",
       "      <td>0.051846</td>\n",
       "      <td>...</td>\n",
       "      <td>1.886448</td>\n",
       "      <td>1.042488</td>\n",
       "      <td>0.095825</td>\n",
       "      <td>0.025865</td>\n",
       "      <td>0.040367</td>\n",
       "      <td>0.437889</td>\n",
       "      <td>1.275519</td>\n",
       "      <td>0.099302</td>\n",
       "      <td>2020-04-28 19:23:07.143794</td>\n",
       "      <td>2919.0</td>\n",
       "    </tr>\n",
       "    <tr>\n",
       "      <th>152</th>\n",
       "      <td>2020-08-29 10:45:18.628569</td>\n",
       "      <td>1.787732</td>\n",
       "      <td>0.337442</td>\n",
       "      <td>0.454297</td>\n",
       "      <td>0.438970</td>\n",
       "      <td>0.409166</td>\n",
       "      <td>0.287628</td>\n",
       "      <td>0.939553</td>\n",
       "      <td>0.488531</td>\n",
       "      <td>0.052518</td>\n",
       "      <td>...</td>\n",
       "      <td>1.910602</td>\n",
       "      <td>1.045585</td>\n",
       "      <td>0.096043</td>\n",
       "      <td>0.025942</td>\n",
       "      <td>0.041874</td>\n",
       "      <td>0.440407</td>\n",
       "      <td>1.293970</td>\n",
       "      <td>0.099797</td>\n",
       "      <td>2020-04-28 19:23:07.143794</td>\n",
       "      <td>2943.0</td>\n",
       "    </tr>\n",
       "    <tr>\n",
       "      <th>153</th>\n",
       "      <td>2020-08-30 10:45:18.004836</td>\n",
       "      <td>1.801068</td>\n",
       "      <td>0.338277</td>\n",
       "      <td>0.458931</td>\n",
       "      <td>0.441358</td>\n",
       "      <td>0.417520</td>\n",
       "      <td>0.288565</td>\n",
       "      <td>0.939553</td>\n",
       "      <td>0.490163</td>\n",
       "      <td>0.053183</td>\n",
       "      <td>...</td>\n",
       "      <td>1.939336</td>\n",
       "      <td>1.049679</td>\n",
       "      <td>0.096250</td>\n",
       "      <td>0.026063</td>\n",
       "      <td>0.043191</td>\n",
       "      <td>0.442675</td>\n",
       "      <td>1.312721</td>\n",
       "      <td>0.100185</td>\n",
       "      <td>2020-04-28 19:23:07.143794</td>\n",
       "      <td>2967.0</td>\n",
       "    </tr>\n",
       "    <tr>\n",
       "      <th>154</th>\n",
       "      <td>2020-08-31 10:45:18.725250</td>\n",
       "      <td>1.811817</td>\n",
       "      <td>0.338984</td>\n",
       "      <td>0.462133</td>\n",
       "      <td>0.443615</td>\n",
       "      <td>0.425813</td>\n",
       "      <td>0.289293</td>\n",
       "      <td>0.939553</td>\n",
       "      <td>0.492689</td>\n",
       "      <td>0.053658</td>\n",
       "      <td>...</td>\n",
       "      <td>1.962783</td>\n",
       "      <td>1.053903</td>\n",
       "      <td>0.096475</td>\n",
       "      <td>0.026130</td>\n",
       "      <td>0.044468</td>\n",
       "      <td>0.444764</td>\n",
       "      <td>1.317307</td>\n",
       "      <td>0.100667</td>\n",
       "      <td>2020-04-28 19:23:07.143794</td>\n",
       "      <td>2991.0</td>\n",
       "    </tr>\n",
       "  </tbody>\n",
       "</table>\n",
       "<p>5 rows × 25 columns</p>\n",
       "</div>"
      ],
      "text/plain": [
       "                      datetime       USA    Canada    Mexico     Italy  \\\n",
       "150 2020-08-27 10:45:19.395878  1.758861  0.334949  0.445106  0.434224   \n",
       "151 2020-08-28 10:45:18.722986  1.772731  0.336091  0.449780  0.436555   \n",
       "152 2020-08-29 10:45:18.628569  1.787732  0.337442  0.454297  0.438970   \n",
       "153 2020-08-30 10:45:18.004836  1.801068  0.338277  0.458931  0.441358   \n",
       "154 2020-08-31 10:45:18.725250  1.811817  0.338984  0.462133  0.443615   \n",
       "\n",
       "       France   Germany     Spain        UK     Japan  ...      Peru  \\\n",
       "150  0.388499  0.283988  0.897981  0.484409  0.051130  ...  1.860308   \n",
       "151  0.397861  0.285863  0.918638  0.486651  0.051846  ...  1.886448   \n",
       "152  0.409166  0.287628  0.939553  0.488531  0.052518  ...  1.910602   \n",
       "153  0.417520  0.288565  0.939553  0.490163  0.053183  ...  1.939336   \n",
       "154  0.425813  0.289293  0.939553  0.492689  0.053658  ...  1.962783   \n",
       "\n",
       "     South Africa     Egypt   Nigeria  Ethiopia      Iran    Israel  \\\n",
       "150      1.038129  0.095593  0.025721  0.039335  0.432611  1.258894   \n",
       "151      1.042488  0.095825  0.025865  0.040367  0.437889  1.275519   \n",
       "152      1.045585  0.096043  0.025942  0.041874  0.440407  1.293970   \n",
       "153      1.049679  0.096250  0.026063  0.043191  0.442675  1.312721   \n",
       "154      1.053903  0.096475  0.026130  0.044468  0.444764  1.317307   \n",
       "\n",
       "     Australia             datetime start  timedelta (hours)  \n",
       "150   0.098844 2020-04-28 19:23:07.143794             2895.0  \n",
       "151   0.099302 2020-04-28 19:23:07.143794             2919.0  \n",
       "152   0.099797 2020-04-28 19:23:07.143794             2943.0  \n",
       "153   0.100185 2020-04-28 19:23:07.143794             2967.0  \n",
       "154   0.100667 2020-04-28 19:23:07.143794             2991.0  \n",
       "\n",
       "[5 rows x 25 columns]"
      ]
     },
     "execution_count": 57,
     "metadata": {},
     "output_type": "execute_result"
    }
   ],
   "source": [
    "covid_df.tail()"
   ]
  },
  {
   "cell_type": "markdown",
   "metadata": {},
   "source": [
    "## Numpy Polyfit\n"
   ]
  },
  {
   "cell_type": "markdown",
   "metadata": {},
   "source": [
    "20 days (480 hours) from the last date of data collection sets the limits for the projection"
   ]
  },
  {
   "cell_type": "code",
   "execution_count": 58,
   "metadata": {},
   "outputs": [
    {
     "data": {
      "text/plain": [
       "3471.0"
      ]
     },
     "execution_count": 58,
     "metadata": {},
     "output_type": "execute_result"
    }
   ],
   "source": [
    "max_hour = covid_df['timedelta (hours)'].max() + 480\n",
    "max_hour"
   ]
  },
  {
   "cell_type": "markdown",
   "metadata": {},
   "source": [
    "numpy.polyfit determines the best fit third order polynomial"
   ]
  },
  {
   "cell_type": "code",
   "execution_count": 59,
   "metadata": {},
   "outputs": [],
   "source": [
    "curve = np.poly1d(np.polyfit(covid_df['timedelta (hours)'], covid_df['USA'], 3)) #third order polynomial\n",
    "lin_line = np.linspace(0, max_hour, 200)\n",
    "poly_line = curve(lin_line)"
   ]
  },
  {
   "cell_type": "markdown",
   "metadata": {},
   "source": [
    "### Graph and RMSE"
   ]
  },
  {
   "cell_type": "code",
   "execution_count": 60,
   "metadata": {},
   "outputs": [
    {
     "data": {
      "image/png": "[encoded data removed]",
      "text/plain": [
       "<Figure size 864x576 with 1 Axes>"
      ]
     },
     "metadata": {
      "needs_background": "light"
     },
     "output_type": "display_data"
    }
   ],
   "source": [
    "plt.figure(figsize=(12, 8))\n",
    "\n",
    "plt.plot(covid_df['timedelta (hours)'], covid_df['USA'], linewidth=3, color='k')\n",
    "plt.plot(lin_line, poly_line, '--', color='r')\n",
    "\n",
    "plt.legend(('Rate of Covid-19', '3rd Order Polynomial Regression'), loc='upper left')\n",
    "plt.xticks(date_list, labels=string_dates, rotation=30)\n",
    "plt.ylabel('Rate of Covid-19', fontsize=15)\n",
    "plt.title('Polynomial Projection of U.S. Covid-19 Rate', fontsize=20)\n",
    "plt.show()"
   ]
  },
  {
   "cell_type": "code",
   "execution_count": 61,
   "metadata": {},
   "outputs": [
    {
     "data": {
      "text/plain": [
       "0.0316014787484885"
      ]
     },
     "execution_count": 61,
     "metadata": {},
     "output_type": "execute_result"
    }
   ],
   "source": [
    "Poly_RMSE = sqrt(mean_squared_error(y_true=covid_df['USA'], y_pred=curve(covid_df['timedelta (hours)'])))\n",
    "Poly_RMSE"
   ]
  },
  {
   "cell_type": "markdown",
   "metadata": {},
   "source": [
    "## Summary of Projections:"
   ]
  },
  {
   "cell_type": "code",
   "execution_count": 62,
   "metadata": {},
   "outputs": [
    {
     "name": "stdout",
     "output_type": "stream",
     "text": [
      "Linear Projection RMSE: 0.09286549209130682\n",
      "Polynomial Projection RMSE: 0.0316014787484885\n",
      "The polynomial projection is a better fit\n"
     ]
    }
   ],
   "source": [
    "print('Linear Projection RMSE: ' + str(lin_RMSE))\n",
    "print('Polynomial Projection RMSE: ' + str(Poly_RMSE))\n",
    "if Poly_RMSE < lin_RMSE:\n",
    "    print('The polynomial projection is a better fit')\n",
    "else:\n",
    "    print('The linear projection is a better fit')"
   ]
  },
  {
   "cell_type": "code",
   "execution_count": null,
   "metadata": {},
   "outputs": [],
   "source": []
  }
 ],
 "metadata": {
  "kernelspec": {
   "display_name": "Python 3",
   "language": "python",
   "name": "python3"
  },
  "language_info": {
   "codemirror_mode": {
    "name": "ipython",
    "version": 3
   },
   "file_extension": ".py",
   "mimetype": "text/x-python",
   "name": "python",
   "nbconvert_exporter": "python",
   "pygments_lexer": "ipython3",
   "version": "3.7.6"
  }
 },
 "nbformat": 4,
 "nbformat_minor": 4
}
